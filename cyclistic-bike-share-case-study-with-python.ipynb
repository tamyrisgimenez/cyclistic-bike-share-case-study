{
 "cells": [
  {
   "cell_type": "markdown",
   "metadata": {},
   "source": [
    "# **CYCLISTIC BIKE-SHARE CASE STUDY**\n",
    "\n",
    "*How does a bike-share navigate speedy success?*\n",
    "\n",
    "![](https://miro.medium.com/max/293/1*nPqUTH1pkj8BWtQrd8WYIg.png)"
   ]
  },
  {
   "cell_type": "markdown",
   "metadata": {},
   "source": [
    "## **ABOUT THE COMPANY**\n",
    "\n",
    "<span style=\"font-size:1.1em;\">Founded in 2016, Cyclistic is a bike-share program that features more than 5,800 bicycles and 600 docking stations. In addition to offering traditional bikes, the company also has reclining bikes, hand tricycles, and cargo bikes included in its renting options. They can be unlocked from one station and returned to any other station in the system anytime.\n",
    "    \n",
    "<span style=\"font-size:1.1em;\">Cyclistic has flexible pricing plans: single-ride passes, full-day passes, and annual memberships. Customers who purchase single-ride or full-day passes are referred to as casual riders while customers who purchase annual memberships are known as members.\n",
    "    \n",
    "<span style=\"font-size:1.1em;\">The company's finance analysts have concluded that annual members are much more profitable than casual riders. Although the pricing flexibility helps the company attract more customers, Rita Moreno – Cyclistic's marketing director – believes that maximizing the number of annual members will be key to future growth. Instead of creating a marketing campaign that targets all-new customers, Moreno believes there is a very good chance to convert casual riders into members."
   ]
  },
  {
   "cell_type": "markdown",
   "metadata": {},
   "source": [
    "## **BUSINESS TASK**\n",
    "\n",
    "* <span style=\"font-size:1.1em;\">Analyzing the company’s historical bike trip data to identify trends into how annual members and casual riders use Cyclistic bikes differently."
   ]
  },
  {
   "cell_type": "markdown",
   "metadata": {},
   "source": [
    "## **STAKEHOLDERS**"
   ]
  },
  {
   "cell_type": "markdown",
   "metadata": {},
   "source": [
    "<span style=\"font-size:1.1em;\">\n",
    "    \n",
    "* <b>Lily Moreno</b> – Cyclistic’s marketing director.\n",
    "    \n",
    "* <b>Cyclistic marketing analytics team</b> – A team of data analysts who are responsible for collecting, analyzing, and reporting data that helps guide the company’s marketing strategy. \n",
    "    \n",
    "* <b>Cyclistic executive team</b> – Responsible for deciding whether to approve the recommended marketing program."
   ]
  },
  {
   "cell_type": "markdown",
   "metadata": {},
   "source": [
    "## **1. ASK**"
   ]
  },
  {
   "cell_type": "markdown",
   "metadata": {},
   "source": [
    "<span style=\"font-size:1.1em;\">\n",
    "\n",
    "* How do annual members and casual riders use Cyclistic bikes differently?"
   ]
  },
  {
   "cell_type": "markdown",
   "metadata": {},
   "source": [
    "## **2. PREPARE**\n",
    "\n",
    "<span style=\"font-size:1.1em;\">The data used in this project has been made available by Motivate International Inc. under this [license](https://ride.divvybikes.com/data-license-agreement). The datasets are named differently because Cyclistic is a fictional company. Divvy, the name you will see on the files, is a real bike-share system in Chicago with over 600 stations and 6,000+ bikes across the city. For this reason, the data is quite appropriate and will help us explore how different customer types are using Cyclistic's bikes. \n",
    "    \n",
    "<span style=\"font-size:1.1em;\">It is important to note, however, that data-privacy issues prohibit us to have access to the users' personal information, meaning we will not be able to connect pass purchases to credit card numbers in order to determine if casual riders live in the Cyclistic service area, or if they have purchased multiple single passes. You can check the datasets [here](https://divvy-tripdata.s3.amazonaws.com/index.html).\n",
    "    \n",
    "<span style=\"font-size:1.1em;\">We will be working with 12 CSV files, comprehending the datasets between ‘202005-divvy-tripdata’ and ‘202104-divvy-tripdata’. This data corresponds to the period between May 2020 and April 2021. On those files, we will find the types of bikes available for rental, the date and time of each bike rental and its return to the station, the different station names, and more. Considering our data limitations, we will not be able to find out whether a casual rider spends more money per year than they would on an annual membership, their gender, age, or neighborhood - but we can still use this dataset to explore trends and learn how casual riders and members differ in their bike rental habits.\n"
   ]
  },
  {
   "cell_type": "markdown",
   "metadata": {},
   "source": [
    "## **3. PROCESS**\n",
    "\n",
    "<span style=\"font-size:1.1em;\">We will begin this phase by loading the libraries and datasets. Then, we will perform data exploration by getting an overview of the datasets, checking the data types, and cleaning the data."
   ]
  },
  {
   "cell_type": "markdown",
   "metadata": {},
   "source": [
    "### **Loading libraries**"
   ]
  },
  {
   "cell_type": "code",
   "execution_count": 1,
   "metadata": {
    "execution": {
     "iopub.execute_input": "2022-02-08T21:19:36.681739Z",
     "iopub.status.busy": "2022-02-08T21:19:36.68116Z",
     "iopub.status.idle": "2022-02-08T21:19:37.753556Z",
     "shell.execute_reply": "2022-02-08T21:19:37.75291Z",
     "shell.execute_reply.started": "2022-02-08T21:19:36.681644Z"
    }
   },
   "outputs": [],
   "source": [
    "import pandas as pd\n",
    "\n",
    "import numpy as np\n",
    "\n",
    "import matplotlib.pyplot as plt\n",
    "\n",
    "from matplotlib.ticker import ScalarFormatter\n",
    "\n",
    "import datetime\n",
    "\n",
    "from pandas.api.types import CategoricalDtype\n",
    "\n",
    "import seaborn as sns"
   ]
  },
  {
   "cell_type": "markdown",
   "metadata": {},
   "source": [
    "**<span style=\"font-size:1.3em;\">Loading datasets**"
   ]
  },
  {
   "cell_type": "code",
   "execution_count": 3,
   "metadata": {
    "execution": {
     "iopub.execute_input": "2022-02-08T21:19:37.755956Z",
     "iopub.status.busy": "2022-02-08T21:19:37.755192Z",
     "iopub.status.idle": "2022-02-08T21:20:00.31626Z",
     "shell.execute_reply": "2022-02-08T21:20:00.315251Z",
     "shell.execute_reply.started": "2022-02-08T21:19:37.755908Z"
    }
   },
   "outputs": [],
   "source": [
    "may_2020_tripdata = pd.read_csv(r'C:\\Users\\tamyg\\Documents\\Data Projects\\Cyclistic Bike-Share/202005-divvy-tripdata.csv')\n",
    "\n",
    "jun_2020_tripdata = pd.read_csv(r'C:\\Users\\tamyg\\Documents\\Data Projects\\Cyclistic Bike-Share/202006-divvy-tripdata.csv')\n",
    "\n",
    "jul_2020_tripdata = pd.read_csv(r'C:\\Users\\tamyg\\Documents\\Data Projects\\Cyclistic Bike-Share/202007-divvy-tripdata.csv')\n",
    "\n",
    "aug_2020_tripdata = pd.read_csv(r'C:\\Users\\tamyg\\Documents\\Data Projects\\Cyclistic Bike-Share/202008-divvy-tripdata.csv')\n",
    "\n",
    "sep_2020_tripdata = pd.read_csv(r'C:\\Users\\tamyg\\Documents\\Data Projects\\Cyclistic Bike-Share/202009-divvy-tripdata.csv')\n",
    "\n",
    "oct_2020_tripdata = pd.read_csv(r'C:\\Users\\tamyg\\Documents\\Data Projects\\Cyclistic Bike-Share/202010-divvy-tripdata.csv')\n",
    "\n",
    "nov_2020_tripdata = pd.read_csv(r'C:\\Users\\tamyg\\Documents\\Data Projects\\Cyclistic Bike-Share/202011-divvy-tripdata.csv')\n",
    "\n",
    "dec_2020_tripdata = pd.read_csv(r'C:\\Users\\tamyg\\Documents\\Data Projects\\Cyclistic Bike-Share/202012-divvy-tripdata.csv')\n",
    "\n",
    "jan_2021_tripdata = pd.read_csv(r'C:\\Users\\tamyg\\Documents\\Data Projects\\Cyclistic Bike-Share/202101-divvy-tripdata.csv')\n",
    "\n",
    "feb_2021_tripdata = pd.read_csv(r'C:\\Users\\tamyg\\Documents\\Data Projects\\Cyclistic Bike-Share/202102-divvy-tripdata.csv')\n",
    "\n",
    "mar_2021_tripdata = pd.read_csv(r'C:\\Users\\tamyg\\Documents\\Data Projects\\Cyclistic Bike-Share/202103-divvy-tripdata.csv')\n",
    "\n",
    "apr_2021_tripdata = pd.read_csv(r'C:\\Users\\tamyg\\Documents\\Data Projects\\Cyclistic Bike-Share/202104-divvy-tripdata.csv')"
   ]
  },
  {
   "cell_type": "markdown",
   "metadata": {},
   "source": [
    "## **Data Exploration**\n",
    "\n",
    "### **Getting an overview of the data**\n",
    "\n",
    "<span style=\"font-size:1.1em;\">Let's start by taking a first look at a couple of our datasets:<br>"
   ]
  },
  {
   "cell_type": "code",
   "execution_count": 4,
   "metadata": {
    "execution": {
     "iopub.execute_input": "2022-02-08T21:20:00.318027Z",
     "iopub.status.busy": "2022-02-08T21:20:00.317715Z",
     "iopub.status.idle": "2022-02-08T21:20:00.347437Z",
     "shell.execute_reply": "2022-02-08T21:20:00.346637Z",
     "shell.execute_reply.started": "2022-02-08T21:20:00.317984Z"
    }
   },
   "outputs": [
    {
     "data": {
      "text/html": [
       "<div>\n",
       "<style scoped>\n",
       "    .dataframe tbody tr th:only-of-type {\n",
       "        vertical-align: middle;\n",
       "    }\n",
       "\n",
       "    .dataframe tbody tr th {\n",
       "        vertical-align: top;\n",
       "    }\n",
       "\n",
       "    .dataframe thead th {\n",
       "        text-align: right;\n",
       "    }\n",
       "</style>\n",
       "<table border=\"1\" class=\"dataframe\">\n",
       "  <thead>\n",
       "    <tr style=\"text-align: right;\">\n",
       "      <th></th>\n",
       "      <th>ride_id</th>\n",
       "      <th>rideable_type</th>\n",
       "      <th>started_at</th>\n",
       "      <th>ended_at</th>\n",
       "      <th>start_station_name</th>\n",
       "      <th>start_station_id</th>\n",
       "      <th>end_station_name</th>\n",
       "      <th>end_station_id</th>\n",
       "      <th>start_lat</th>\n",
       "      <th>start_lng</th>\n",
       "      <th>end_lat</th>\n",
       "      <th>end_lng</th>\n",
       "      <th>member_casual</th>\n",
       "    </tr>\n",
       "  </thead>\n",
       "  <tbody>\n",
       "    <tr>\n",
       "      <th>0</th>\n",
       "      <td>02668AD35674B983</td>\n",
       "      <td>docked_bike</td>\n",
       "      <td>2020-05-27 10:03:52</td>\n",
       "      <td>2020-05-27 10:16:49</td>\n",
       "      <td>Franklin St &amp; Jackson Blvd</td>\n",
       "      <td>36</td>\n",
       "      <td>Wabash Ave &amp; Grand Ave</td>\n",
       "      <td>199.0</td>\n",
       "      <td>41.8777</td>\n",
       "      <td>-87.6353</td>\n",
       "      <td>41.8915</td>\n",
       "      <td>-87.6268</td>\n",
       "      <td>member</td>\n",
       "    </tr>\n",
       "    <tr>\n",
       "      <th>1</th>\n",
       "      <td>7A50CCAF1EDDB28F</td>\n",
       "      <td>docked_bike</td>\n",
       "      <td>2020-05-25 10:47:11</td>\n",
       "      <td>2020-05-25 11:05:40</td>\n",
       "      <td>Clark St &amp; Wrightwood Ave</td>\n",
       "      <td>340</td>\n",
       "      <td>Clark St &amp; Leland Ave</td>\n",
       "      <td>326.0</td>\n",
       "      <td>41.9295</td>\n",
       "      <td>-87.6431</td>\n",
       "      <td>41.9671</td>\n",
       "      <td>-87.6674</td>\n",
       "      <td>casual</td>\n",
       "    </tr>\n",
       "    <tr>\n",
       "      <th>2</th>\n",
       "      <td>2FFCDFDB91FE9A52</td>\n",
       "      <td>docked_bike</td>\n",
       "      <td>2020-05-02 14:11:03</td>\n",
       "      <td>2020-05-02 15:48:21</td>\n",
       "      <td>Kedzie Ave &amp; Milwaukee Ave</td>\n",
       "      <td>260</td>\n",
       "      <td>Kedzie Ave &amp; Milwaukee Ave</td>\n",
       "      <td>260.0</td>\n",
       "      <td>41.9296</td>\n",
       "      <td>-87.7079</td>\n",
       "      <td>41.9296</td>\n",
       "      <td>-87.7079</td>\n",
       "      <td>casual</td>\n",
       "    </tr>\n",
       "  </tbody>\n",
       "</table>\n",
       "</div>"
      ],
      "text/plain": [
       "            ride_id rideable_type           started_at             ended_at  \\\n",
       "0  02668AD35674B983   docked_bike  2020-05-27 10:03:52  2020-05-27 10:16:49   \n",
       "1  7A50CCAF1EDDB28F   docked_bike  2020-05-25 10:47:11  2020-05-25 11:05:40   \n",
       "2  2FFCDFDB91FE9A52   docked_bike  2020-05-02 14:11:03  2020-05-02 15:48:21   \n",
       "\n",
       "           start_station_name  start_station_id            end_station_name  \\\n",
       "0  Franklin St & Jackson Blvd                36      Wabash Ave & Grand Ave   \n",
       "1   Clark St & Wrightwood Ave               340       Clark St & Leland Ave   \n",
       "2  Kedzie Ave & Milwaukee Ave               260  Kedzie Ave & Milwaukee Ave   \n",
       "\n",
       "   end_station_id  start_lat  start_lng  end_lat  end_lng member_casual  \n",
       "0           199.0    41.8777   -87.6353  41.8915 -87.6268        member  \n",
       "1           326.0    41.9295   -87.6431  41.9671 -87.6674        casual  \n",
       "2           260.0    41.9296   -87.7079  41.9296 -87.7079        casual  "
      ]
     },
     "execution_count": 4,
     "metadata": {},
     "output_type": "execute_result"
    }
   ],
   "source": [
    "may_2020_tripdata.head(3)"
   ]
  },
  {
   "cell_type": "code",
   "execution_count": 5,
   "metadata": {
    "execution": {
     "iopub.execute_input": "2022-02-08T21:20:00.349744Z",
     "iopub.status.busy": "2022-02-08T21:20:00.349412Z",
     "iopub.status.idle": "2022-02-08T21:20:00.366016Z",
     "shell.execute_reply": "2022-02-08T21:20:00.365165Z",
     "shell.execute_reply.started": "2022-02-08T21:20:00.349709Z"
    }
   },
   "outputs": [
    {
     "data": {
      "text/html": [
       "<div>\n",
       "<style scoped>\n",
       "    .dataframe tbody tr th:only-of-type {\n",
       "        vertical-align: middle;\n",
       "    }\n",
       "\n",
       "    .dataframe tbody tr th {\n",
       "        vertical-align: top;\n",
       "    }\n",
       "\n",
       "    .dataframe thead th {\n",
       "        text-align: right;\n",
       "    }\n",
       "</style>\n",
       "<table border=\"1\" class=\"dataframe\">\n",
       "  <thead>\n",
       "    <tr style=\"text-align: right;\">\n",
       "      <th></th>\n",
       "      <th>ride_id</th>\n",
       "      <th>rideable_type</th>\n",
       "      <th>started_at</th>\n",
       "      <th>ended_at</th>\n",
       "      <th>start_station_name</th>\n",
       "      <th>start_station_id</th>\n",
       "      <th>end_station_name</th>\n",
       "      <th>end_station_id</th>\n",
       "      <th>start_lat</th>\n",
       "      <th>start_lng</th>\n",
       "      <th>end_lat</th>\n",
       "      <th>end_lng</th>\n",
       "      <th>member_casual</th>\n",
       "    </tr>\n",
       "  </thead>\n",
       "  <tbody>\n",
       "    <tr>\n",
       "      <th>0</th>\n",
       "      <td>8CD5DE2C2B6C4CFC</td>\n",
       "      <td>docked_bike</td>\n",
       "      <td>2020-06-13 23:24:48</td>\n",
       "      <td>2020-06-13 23:36:55</td>\n",
       "      <td>Wilton Ave &amp; Belmont Ave</td>\n",
       "      <td>117</td>\n",
       "      <td>Damen Ave &amp; Clybourn Ave</td>\n",
       "      <td>163.0</td>\n",
       "      <td>41.940180</td>\n",
       "      <td>-87.653040</td>\n",
       "      <td>41.931931</td>\n",
       "      <td>-87.677856</td>\n",
       "      <td>casual</td>\n",
       "    </tr>\n",
       "    <tr>\n",
       "      <th>1</th>\n",
       "      <td>9A191EB2C751D85D</td>\n",
       "      <td>docked_bike</td>\n",
       "      <td>2020-06-26 07:26:10</td>\n",
       "      <td>2020-06-26 07:31:58</td>\n",
       "      <td>Federal St &amp; Polk St</td>\n",
       "      <td>41</td>\n",
       "      <td>Daley Center Plaza</td>\n",
       "      <td>81.0</td>\n",
       "      <td>41.872077</td>\n",
       "      <td>-87.629543</td>\n",
       "      <td>41.884241</td>\n",
       "      <td>-87.629634</td>\n",
       "      <td>member</td>\n",
       "    </tr>\n",
       "    <tr>\n",
       "      <th>2</th>\n",
       "      <td>F37D14B0B5659BCF</td>\n",
       "      <td>docked_bike</td>\n",
       "      <td>2020-06-23 17:12:41</td>\n",
       "      <td>2020-06-23 17:21:14</td>\n",
       "      <td>Daley Center Plaza</td>\n",
       "      <td>81</td>\n",
       "      <td>State St &amp; Harrison St</td>\n",
       "      <td>5.0</td>\n",
       "      <td>41.884241</td>\n",
       "      <td>-87.629634</td>\n",
       "      <td>41.874053</td>\n",
       "      <td>-87.627716</td>\n",
       "      <td>member</td>\n",
       "    </tr>\n",
       "  </tbody>\n",
       "</table>\n",
       "</div>"
      ],
      "text/plain": [
       "            ride_id rideable_type           started_at             ended_at  \\\n",
       "0  8CD5DE2C2B6C4CFC   docked_bike  2020-06-13 23:24:48  2020-06-13 23:36:55   \n",
       "1  9A191EB2C751D85D   docked_bike  2020-06-26 07:26:10  2020-06-26 07:31:58   \n",
       "2  F37D14B0B5659BCF   docked_bike  2020-06-23 17:12:41  2020-06-23 17:21:14   \n",
       "\n",
       "         start_station_name  start_station_id          end_station_name  \\\n",
       "0  Wilton Ave & Belmont Ave               117  Damen Ave & Clybourn Ave   \n",
       "1      Federal St & Polk St                41        Daley Center Plaza   \n",
       "2        Daley Center Plaza                81    State St & Harrison St   \n",
       "\n",
       "   end_station_id  start_lat  start_lng    end_lat    end_lng member_casual  \n",
       "0           163.0  41.940180 -87.653040  41.931931 -87.677856        casual  \n",
       "1            81.0  41.872077 -87.629543  41.884241 -87.629634        member  \n",
       "2             5.0  41.884241 -87.629634  41.874053 -87.627716        member  "
      ]
     },
     "execution_count": 5,
     "metadata": {},
     "output_type": "execute_result"
    }
   ],
   "source": [
    "jun_2020_tripdata.head(3)"
   ]
  },
  {
   "cell_type": "markdown",
   "metadata": {},
   "source": [
    "<span style=\"font-size:1.1em;\">As we can see, the datasets contain the same columns. Since there are 12 datasets, we should combine them into only one. This will make it a lot easier to clean the data, make any transformations, and perform analysis.\n",
    "    \n",
    "<span style=\"font-size:1.1em;\">In order to do this, we will use the **concat()** function. You can think of it as Python's version of a SQL UNION."
   ]
  },
  {
   "cell_type": "markdown",
   "metadata": {},
   "source": [
    "### **Combining all of the datasets into one with concat()**"
   ]
  },
  {
   "cell_type": "code",
   "execution_count": 6,
   "metadata": {
    "execution": {
     "iopub.execute_input": "2022-02-08T21:20:00.367747Z",
     "iopub.status.busy": "2022-02-08T21:20:00.367275Z",
     "iopub.status.idle": "2022-02-08T21:20:01.932777Z",
     "shell.execute_reply": "2022-02-08T21:20:01.931672Z",
     "shell.execute_reply.started": "2022-02-08T21:20:00.367698Z"
    }
   },
   "outputs": [],
   "source": [
    "tripdata = pd.concat([may_2020_tripdata, jun_2020_tripdata, jul_2020_tripdata, aug_2020_tripdata, sep_2020_tripdata,\n",
    "                      oct_2020_tripdata, nov_2020_tripdata, dec_2020_tripdata, jan_2021_tripdata, feb_2021_tripdata, \n",
    "                      mar_2021_tripdata, apr_2021_tripdata])"
   ]
  },
  {
   "cell_type": "markdown",
   "metadata": {},
   "source": [
    "### **Checking the data types in the dataset**\n",
    "\n",
    "<span style=\"font-size:1.1em;\">Now, we should check the data types we will be working with:<br>"
   ]
  },
  {
   "cell_type": "code",
   "execution_count": 7,
   "metadata": {
    "execution": {
     "iopub.execute_input": "2022-02-08T21:20:01.93432Z",
     "iopub.status.busy": "2022-02-08T21:20:01.934068Z",
     "iopub.status.idle": "2022-02-08T21:20:01.942597Z",
     "shell.execute_reply": "2022-02-08T21:20:01.941677Z",
     "shell.execute_reply.started": "2022-02-08T21:20:01.93429Z"
    }
   },
   "outputs": [
    {
     "data": {
      "text/plain": [
       "ride_id                object\n",
       "rideable_type          object\n",
       "started_at             object\n",
       "ended_at               object\n",
       "start_station_name     object\n",
       "start_station_id       object\n",
       "end_station_name       object\n",
       "end_station_id         object\n",
       "start_lat             float64\n",
       "start_lng             float64\n",
       "end_lat               float64\n",
       "end_lng               float64\n",
       "member_casual          object\n",
       "dtype: object"
      ]
     },
     "execution_count": 7,
     "metadata": {},
     "output_type": "execute_result"
    }
   ],
   "source": [
    "tripdata.dtypes"
   ]
  },
  {
   "cell_type": "markdown",
   "metadata": {},
   "source": [
    "### **Taking a closer look at the dataset**\n",
    "\n",
    "<span style=\"font-size:1.1em;\">The next step involves learning more about some of our dataset's characteristics, so we can understand its content better.\n",
    "    \n",
    "#### **How many unique rides are there in total?**"
   ]
  },
  {
   "cell_type": "code",
   "execution_count": 11,
   "metadata": {
    "execution": {
     "iopub.execute_input": "2022-02-08T21:20:01.944413Z",
     "iopub.status.busy": "2022-02-08T21:20:01.944123Z",
     "iopub.status.idle": "2022-02-08T21:20:04.756464Z",
     "shell.execute_reply": "2022-02-08T21:20:04.75573Z",
     "shell.execute_reply.started": "2022-02-08T21:20:01.944357Z"
    }
   },
   "outputs": [
    {
     "data": {
      "text/plain": [
       "3741993"
      ]
     },
     "execution_count": 11,
     "metadata": {},
     "output_type": "execute_result"
    }
   ],
   "source": [
    "tripdata.ride_id.nunique()"
   ]
  },
  {
   "cell_type": "markdown",
   "metadata": {},
   "source": [
    "#### **How many types of bikes are there?**"
   ]
  },
  {
   "cell_type": "code",
   "execution_count": 9,
   "metadata": {
    "execution": {
     "iopub.execute_input": "2022-02-08T21:20:04.757911Z",
     "iopub.status.busy": "2022-02-08T21:20:04.757698Z",
     "iopub.status.idle": "2022-02-08T21:20:05.063203Z",
     "shell.execute_reply": "2022-02-08T21:20:05.062323Z",
     "shell.execute_reply.started": "2022-02-08T21:20:04.757885Z"
    }
   },
   "outputs": [
    {
     "data": {
      "text/plain": [
       "3"
      ]
     },
     "execution_count": 9,
     "metadata": {},
     "output_type": "execute_result"
    }
   ],
   "source": [
    "tripdata.rideable_type.nunique()"
   ]
  },
  {
   "cell_type": "markdown",
   "metadata": {},
   "source": [
    "#### **How many rows and columns are there in the dataframe?**"
   ]
  },
  {
   "cell_type": "code",
   "execution_count": 12,
   "metadata": {
    "execution": {
     "iopub.execute_input": "2022-02-08T21:20:05.064614Z",
     "iopub.status.busy": "2022-02-08T21:20:05.064358Z",
     "iopub.status.idle": "2022-02-08T21:20:05.070071Z",
     "shell.execute_reply": "2022-02-08T21:20:05.069476Z",
     "shell.execute_reply.started": "2022-02-08T21:20:05.064572Z"
    }
   },
   "outputs": [
    {
     "data": {
      "text/plain": [
       "(3742202, 13)"
      ]
     },
     "execution_count": 12,
     "metadata": {},
     "output_type": "execute_result"
    }
   ],
   "source": [
    "tripdata.shape"
   ]
  },
  {
   "cell_type": "markdown",
   "metadata": {},
   "source": [
    "## **Cleaning Data**\n",
    "\n",
    "<span style=\"font-size:1.1em;\">Now, it is time to make sure our data is clean and tidy."
   ]
  },
  {
   "cell_type": "markdown",
   "metadata": {},
   "source": [
    "### **Checking for empty cells**"
   ]
  },
  {
   "cell_type": "code",
   "execution_count": 13,
   "metadata": {
    "execution": {
     "iopub.execute_input": "2022-02-08T21:20:05.073046Z",
     "iopub.status.busy": "2022-02-08T21:20:05.072577Z",
     "iopub.status.idle": "2022-02-08T21:20:08.280921Z",
     "shell.execute_reply": "2022-02-08T21:20:08.280203Z",
     "shell.execute_reply.started": "2022-02-08T21:20:05.073011Z"
    }
   },
   "outputs": [
    {
     "data": {
      "text/plain": [
       "ride_id               False\n",
       "rideable_type         False\n",
       "started_at            False\n",
       "ended_at              False\n",
       "start_station_name     True\n",
       "start_station_id       True\n",
       "end_station_name       True\n",
       "end_station_id         True\n",
       "start_lat             False\n",
       "start_lng             False\n",
       "end_lat                True\n",
       "end_lng                True\n",
       "member_casual         False\n",
       "dtype: bool"
      ]
     },
     "execution_count": 13,
     "metadata": {},
     "output_type": "execute_result"
    }
   ],
   "source": [
    "tripdata.isnull().any()"
   ]
  },
  {
   "cell_type": "markdown",
   "metadata": {},
   "source": [
    "<span style=\"font-size:1.1em;\">We do have null values in our dataset. Let's see how many of them we are dealing with:"
   ]
  },
  {
   "cell_type": "code",
   "execution_count": 14,
   "metadata": {
    "execution": {
     "iopub.execute_input": "2022-02-08T21:20:08.282348Z",
     "iopub.status.busy": "2022-02-08T21:20:08.282137Z",
     "iopub.status.idle": "2022-02-08T21:20:11.569753Z",
     "shell.execute_reply": "2022-02-08T21:20:11.568874Z",
     "shell.execute_reply.started": "2022-02-08T21:20:08.282322Z"
    }
   },
   "outputs": [
    {
     "data": {
      "text/plain": [
       "649995"
      ]
     },
     "execution_count": 14,
     "metadata": {},
     "output_type": "execute_result"
    }
   ],
   "source": [
    "tripdata.isnull().values.sum()"
   ]
  },
  {
   "cell_type": "markdown",
   "metadata": {},
   "source": [
    "<span style=\"font-size:1.1em;\">As we can see above, there are null values in the following columns: *start_station_name*, *start_station_id*, *end_station_name*, *end_station_id*, *end_lat*, and *end_lng*. \n",
    "\n",
    "<span style=\"font-size:1.1em;\">Given that we will not be using those columns in our analysis, there is no need to be concerned about removing the null values. We can go ahead and drop the columns altogether."
   ]
  },
  {
   "cell_type": "markdown",
   "metadata": {},
   "source": [
    "### **Dropping Unnecessary Columns**"
   ]
  },
  {
   "cell_type": "code",
   "execution_count": 15,
   "metadata": {
    "execution": {
     "iopub.execute_input": "2022-02-08T21:20:11.571169Z",
     "iopub.status.busy": "2022-02-08T21:20:11.57095Z",
     "iopub.status.idle": "2022-02-08T21:20:13.392289Z",
     "shell.execute_reply": "2022-02-08T21:20:13.391656Z",
     "shell.execute_reply.started": "2022-02-08T21:20:11.571142Z"
    }
   },
   "outputs": [],
   "source": [
    "to_drop = ['start_station_name',\n",
    "           'start_station_id',\n",
    "           'end_station_name',\n",
    "           'end_station_id',\n",
    "           'start_lat',\n",
    "           'start_lng',\n",
    "           'end_lat',\n",
    "           'end_lng']\n",
    "\n",
    "tripdata.drop(to_drop, inplace=True, axis=1)"
   ]
  },
  {
   "cell_type": "markdown",
   "metadata": {},
   "source": [
    "<span style=\"font-size:1.1em;\">This is the result:"
   ]
  },
  {
   "cell_type": "code",
   "execution_count": 16,
   "metadata": {
    "execution": {
     "iopub.execute_input": "2022-02-08T21:20:13.393938Z",
     "iopub.status.busy": "2022-02-08T21:20:13.393509Z",
     "iopub.status.idle": "2022-02-08T21:20:13.404893Z",
     "shell.execute_reply": "2022-02-08T21:20:13.40434Z",
     "shell.execute_reply.started": "2022-02-08T21:20:13.393908Z"
    }
   },
   "outputs": [
    {
     "data": {
      "text/html": [
       "<div>\n",
       "<style scoped>\n",
       "    .dataframe tbody tr th:only-of-type {\n",
       "        vertical-align: middle;\n",
       "    }\n",
       "\n",
       "    .dataframe tbody tr th {\n",
       "        vertical-align: top;\n",
       "    }\n",
       "\n",
       "    .dataframe thead th {\n",
       "        text-align: right;\n",
       "    }\n",
       "</style>\n",
       "<table border=\"1\" class=\"dataframe\">\n",
       "  <thead>\n",
       "    <tr style=\"text-align: right;\">\n",
       "      <th></th>\n",
       "      <th>ride_id</th>\n",
       "      <th>rideable_type</th>\n",
       "      <th>started_at</th>\n",
       "      <th>ended_at</th>\n",
       "      <th>member_casual</th>\n",
       "    </tr>\n",
       "  </thead>\n",
       "  <tbody>\n",
       "    <tr>\n",
       "      <th>0</th>\n",
       "      <td>02668AD35674B983</td>\n",
       "      <td>docked_bike</td>\n",
       "      <td>2020-05-27 10:03:52</td>\n",
       "      <td>2020-05-27 10:16:49</td>\n",
       "      <td>member</td>\n",
       "    </tr>\n",
       "    <tr>\n",
       "      <th>1</th>\n",
       "      <td>7A50CCAF1EDDB28F</td>\n",
       "      <td>docked_bike</td>\n",
       "      <td>2020-05-25 10:47:11</td>\n",
       "      <td>2020-05-25 11:05:40</td>\n",
       "      <td>casual</td>\n",
       "    </tr>\n",
       "    <tr>\n",
       "      <th>2</th>\n",
       "      <td>2FFCDFDB91FE9A52</td>\n",
       "      <td>docked_bike</td>\n",
       "      <td>2020-05-02 14:11:03</td>\n",
       "      <td>2020-05-02 15:48:21</td>\n",
       "      <td>casual</td>\n",
       "    </tr>\n",
       "    <tr>\n",
       "      <th>3</th>\n",
       "      <td>58991CF1DB75BA84</td>\n",
       "      <td>docked_bike</td>\n",
       "      <td>2020-05-02 16:25:36</td>\n",
       "      <td>2020-05-02 16:39:28</td>\n",
       "      <td>casual</td>\n",
       "    </tr>\n",
       "    <tr>\n",
       "      <th>4</th>\n",
       "      <td>A79651EFECC268CD</td>\n",
       "      <td>docked_bike</td>\n",
       "      <td>2020-05-29 12:49:54</td>\n",
       "      <td>2020-05-29 13:27:11</td>\n",
       "      <td>member</td>\n",
       "    </tr>\n",
       "  </tbody>\n",
       "</table>\n",
       "</div>"
      ],
      "text/plain": [
       "            ride_id rideable_type           started_at             ended_at  \\\n",
       "0  02668AD35674B983   docked_bike  2020-05-27 10:03:52  2020-05-27 10:16:49   \n",
       "1  7A50CCAF1EDDB28F   docked_bike  2020-05-25 10:47:11  2020-05-25 11:05:40   \n",
       "2  2FFCDFDB91FE9A52   docked_bike  2020-05-02 14:11:03  2020-05-02 15:48:21   \n",
       "3  58991CF1DB75BA84   docked_bike  2020-05-02 16:25:36  2020-05-02 16:39:28   \n",
       "4  A79651EFECC268CD   docked_bike  2020-05-29 12:49:54  2020-05-29 13:27:11   \n",
       "\n",
       "  member_casual  \n",
       "0        member  \n",
       "1        casual  \n",
       "2        casual  \n",
       "3        casual  \n",
       "4        member  "
      ]
     },
     "execution_count": 16,
     "metadata": {},
     "output_type": "execute_result"
    }
   ],
   "source": [
    "tripdata.head()"
   ]
  },
  {
   "cell_type": "markdown",
   "metadata": {},
   "source": [
    "### **Looking for duplicate values**"
   ]
  },
  {
   "cell_type": "code",
   "execution_count": 17,
   "metadata": {
    "execution": {
     "iopub.execute_input": "2022-02-08T21:20:13.406469Z",
     "iopub.status.busy": "2022-02-08T21:20:13.406088Z",
     "iopub.status.idle": "2022-02-08T21:20:23.306484Z",
     "shell.execute_reply": "2022-02-08T21:20:23.305638Z",
     "shell.execute_reply.started": "2022-02-08T21:20:13.406441Z"
    }
   },
   "outputs": [
    {
     "data": {
      "text/plain": [
       "0         False\n",
       "1         False\n",
       "2         False\n",
       "3         False\n",
       "4         False\n",
       "          ...  \n",
       "337225    False\n",
       "337226    False\n",
       "337227    False\n",
       "337228    False\n",
       "337229    False\n",
       "Length: 3742202, dtype: bool"
      ]
     },
     "execution_count": 17,
     "metadata": {},
     "output_type": "execute_result"
    }
   ],
   "source": [
    "tripdata.duplicated()"
   ]
  },
  {
   "cell_type": "markdown",
   "metadata": {},
   "source": [
    "<span style=\"font-size:1.1em;\">No duplicate rows found."
   ]
  },
  {
   "cell_type": "markdown",
   "metadata": {},
   "source": [
    "## **4. ANALYZE**\n",
    "\n",
    "<span style=\"font-size:1.1em;\">Now, we will perform data transformation and change data formatting to perform analysis."
   ]
  },
  {
   "cell_type": "markdown",
   "metadata": {},
   "source": [
    "### **Data Transformation**\n",
    "\n",
    "<span style=\"font-size:1.1em;\">In this next step, we will transform certain aspects of the data in order to analyze them.\n",
    "\n",
    "<br> \n",
    "    \n",
    "### **Changing data formatting**\n",
    "\n",
    "<span style=\"font-size:1.1em;\">When using *dtypes*, we learned that some of our columns are of type object. We need to change the data type from columns **started_at** and **ended_at** to datetime to perform calculations."
   ]
  },
  {
   "cell_type": "code",
   "execution_count": 18,
   "metadata": {
    "execution": {
     "iopub.execute_input": "2022-02-08T21:20:23.307904Z",
     "iopub.status.busy": "2022-02-08T21:20:23.307666Z",
     "iopub.status.idle": "2022-02-08T21:20:26.312512Z",
     "shell.execute_reply": "2022-02-08T21:20:26.311638Z",
     "shell.execute_reply.started": "2022-02-08T21:20:23.307876Z"
    }
   },
   "outputs": [],
   "source": [
    "tripdata['started_at'] = pd.to_datetime(tripdata['started_at'])\n",
    "\n",
    "tripdata['ended_at'] = pd.to_datetime(tripdata['ended_at'])"
   ]
  },
  {
   "cell_type": "markdown",
   "metadata": {},
   "source": [
    "### **Creating an hour column**"
   ]
  },
  {
   "cell_type": "code",
   "execution_count": 19,
   "metadata": {
    "execution": {
     "iopub.execute_input": "2022-02-08T21:20:26.314098Z",
     "iopub.status.busy": "2022-02-08T21:20:26.313889Z",
     "iopub.status.idle": "2022-02-08T21:20:26.855151Z",
     "shell.execute_reply": "2022-02-08T21:20:26.854166Z",
     "shell.execute_reply.started": "2022-02-08T21:20:26.314073Z"
    }
   },
   "outputs": [],
   "source": [
    "tripdata['hour'] = tripdata['started_at'].dt.hour\n",
    "tripdata = tripdata.astype({'hour':'int8'})"
   ]
  },
  {
   "cell_type": "markdown",
   "metadata": {},
   "source": [
    "### **Creating a day of the week column**"
   ]
  },
  {
   "cell_type": "code",
   "execution_count": 20,
   "metadata": {
    "execution": {
     "iopub.execute_input": "2022-02-08T21:20:26.856885Z",
     "iopub.status.busy": "2022-02-08T21:20:26.856662Z",
     "iopub.status.idle": "2022-02-08T21:20:28.202926Z",
     "shell.execute_reply": "2022-02-08T21:20:28.202044Z",
     "shell.execute_reply.started": "2022-02-08T21:20:26.856858Z"
    }
   },
   "outputs": [],
   "source": [
    "tripdata['dayofweek'] = tripdata['started_at'].dt.day_name()"
   ]
  },
  {
   "cell_type": "markdown",
   "metadata": {},
   "source": [
    "### **Creating a month column**"
   ]
  },
  {
   "cell_type": "code",
   "execution_count": 21,
   "metadata": {
    "execution": {
     "iopub.execute_input": "2022-02-08T21:20:28.204414Z",
     "iopub.status.busy": "2022-02-08T21:20:28.204121Z",
     "iopub.status.idle": "2022-02-08T21:20:29.461624Z",
     "shell.execute_reply": "2022-02-08T21:20:29.460445Z",
     "shell.execute_reply.started": "2022-02-08T21:20:28.204375Z"
    }
   },
   "outputs": [],
   "source": [
    "tripdata['month'] = tripdata['started_at'].dt.month_name()"
   ]
  },
  {
   "cell_type": "markdown",
   "metadata": {},
   "source": [
    "### **Creating a ride length column**\n",
    "\n",
    "<span style=\"font-size:1.1em;\">This column will show us the ride length in minutes for each ride."
   ]
  },
  {
   "cell_type": "code",
   "execution_count": 22,
   "metadata": {
    "execution": {
     "iopub.execute_input": "2022-02-08T21:20:29.462951Z",
     "iopub.status.busy": "2022-02-08T21:20:29.462737Z",
     "iopub.status.idle": "2022-02-08T21:20:29.548945Z",
     "shell.execute_reply": "2022-02-08T21:20:29.547956Z",
     "shell.execute_reply.started": "2022-02-08T21:20:29.462925Z"
    }
   },
   "outputs": [],
   "source": [
    "tripdata['ride_length'] = (tripdata['ended_at'] - tripdata['started_at']) / datetime.timedelta(minutes=1)\n",
    "tripdata['ride_length'] = tripdata['ride_length'].astype('int32')"
   ]
  },
  {
   "cell_type": "markdown",
   "metadata": {},
   "source": [
    "### **Removing outliers**\n",
    "\n",
    "<span style=\"font-size:1.1em;\">Now, we will check for any rows with zero or negative values in the ride_length column and remove them."
   ]
  },
  {
   "cell_type": "code",
   "execution_count": 23,
   "metadata": {
    "execution": {
     "iopub.execute_input": "2022-02-08T21:20:29.550265Z",
     "iopub.status.busy": "2022-02-08T21:20:29.550036Z",
     "iopub.status.idle": "2022-02-08T21:20:30.465834Z",
     "shell.execute_reply": "2022-02-08T21:20:30.46504Z",
     "shell.execute_reply.started": "2022-02-08T21:20:29.550239Z"
    }
   },
   "outputs": [
    {
     "data": {
      "text/plain": [
       "ride_id          64106\n",
       "rideable_type    64106\n",
       "started_at       64106\n",
       "ended_at         64106\n",
       "member_casual    64106\n",
       "hour             64106\n",
       "dayofweek        64106\n",
       "month            64106\n",
       "ride_length      64106\n",
       "dtype: int64"
      ]
     },
     "execution_count": 23,
     "metadata": {},
     "output_type": "execute_result"
    }
   ],
   "source": [
    "tripdata[tripdata['ride_length'] <= 0].count()"
   ]
  },
  {
   "cell_type": "code",
   "execution_count": 24,
   "metadata": {
    "execution": {
     "iopub.execute_input": "2022-02-08T21:20:30.467613Z",
     "iopub.status.busy": "2022-02-08T21:20:30.467199Z",
     "iopub.status.idle": "2022-02-08T21:20:32.61326Z",
     "shell.execute_reply": "2022-02-08T21:20:32.612373Z",
     "shell.execute_reply.started": "2022-02-08T21:20:30.467548Z"
    }
   },
   "outputs": [],
   "source": [
    "# removing rows with zero or negative values\n",
    "tripdata = tripdata.drop(tripdata[tripdata.ride_length <= 0].index)"
   ]
  },
  {
   "cell_type": "markdown",
   "metadata": {},
   "source": [
    "<span style=\"font-size:1.1em;\">Our dataset is ready to be analyzed."
   ]
  },
  {
   "cell_type": "code",
   "execution_count": 25,
   "metadata": {
    "execution": {
     "iopub.execute_input": "2022-02-08T21:20:32.61451Z",
     "iopub.status.busy": "2022-02-08T21:20:32.614311Z",
     "iopub.status.idle": "2022-02-08T21:20:32.629906Z",
     "shell.execute_reply": "2022-02-08T21:20:32.629077Z",
     "shell.execute_reply.started": "2022-02-08T21:20:32.614483Z"
    }
   },
   "outputs": [
    {
     "data": {
      "text/html": [
       "<div>\n",
       "<style scoped>\n",
       "    .dataframe tbody tr th:only-of-type {\n",
       "        vertical-align: middle;\n",
       "    }\n",
       "\n",
       "    .dataframe tbody tr th {\n",
       "        vertical-align: top;\n",
       "    }\n",
       "\n",
       "    .dataframe thead th {\n",
       "        text-align: right;\n",
       "    }\n",
       "</style>\n",
       "<table border=\"1\" class=\"dataframe\">\n",
       "  <thead>\n",
       "    <tr style=\"text-align: right;\">\n",
       "      <th></th>\n",
       "      <th>ride_id</th>\n",
       "      <th>rideable_type</th>\n",
       "      <th>started_at</th>\n",
       "      <th>ended_at</th>\n",
       "      <th>member_casual</th>\n",
       "      <th>hour</th>\n",
       "      <th>dayofweek</th>\n",
       "      <th>month</th>\n",
       "      <th>ride_length</th>\n",
       "    </tr>\n",
       "  </thead>\n",
       "  <tbody>\n",
       "    <tr>\n",
       "      <th>0</th>\n",
       "      <td>02668AD35674B983</td>\n",
       "      <td>docked_bike</td>\n",
       "      <td>2020-05-27 10:03:52</td>\n",
       "      <td>2020-05-27 10:16:49</td>\n",
       "      <td>member</td>\n",
       "      <td>10</td>\n",
       "      <td>Wednesday</td>\n",
       "      <td>May</td>\n",
       "      <td>12</td>\n",
       "    </tr>\n",
       "    <tr>\n",
       "      <th>3</th>\n",
       "      <td>58991CF1DB75BA84</td>\n",
       "      <td>docked_bike</td>\n",
       "      <td>2020-05-02 16:25:36</td>\n",
       "      <td>2020-05-02 16:39:28</td>\n",
       "      <td>casual</td>\n",
       "      <td>16</td>\n",
       "      <td>Saturday</td>\n",
       "      <td>May</td>\n",
       "      <td>13</td>\n",
       "    </tr>\n",
       "    <tr>\n",
       "      <th>11</th>\n",
       "      <td>6AA701EBA46EAF9A</td>\n",
       "      <td>docked_bike</td>\n",
       "      <td>2020-05-24 08:39:50</td>\n",
       "      <td>2020-05-24 08:58:22</td>\n",
       "      <td>member</td>\n",
       "      <td>8</td>\n",
       "      <td>Sunday</td>\n",
       "      <td>May</td>\n",
       "      <td>18</td>\n",
       "    </tr>\n",
       "    <tr>\n",
       "      <th>12</th>\n",
       "      <td>038955FBD4851472</td>\n",
       "      <td>docked_bike</td>\n",
       "      <td>2020-05-14 14:11:34</td>\n",
       "      <td>2020-05-14 14:36:46</td>\n",
       "      <td>casual</td>\n",
       "      <td>14</td>\n",
       "      <td>Thursday</td>\n",
       "      <td>May</td>\n",
       "      <td>25</td>\n",
       "    </tr>\n",
       "    <tr>\n",
       "      <th>13</th>\n",
       "      <td>EFCEDBAE75A0B979</td>\n",
       "      <td>docked_bike</td>\n",
       "      <td>2020-05-03 17:34:41</td>\n",
       "      <td>2020-05-03 18:03:29</td>\n",
       "      <td>casual</td>\n",
       "      <td>17</td>\n",
       "      <td>Sunday</td>\n",
       "      <td>May</td>\n",
       "      <td>28</td>\n",
       "    </tr>\n",
       "  </tbody>\n",
       "</table>\n",
       "</div>"
      ],
      "text/plain": [
       "             ride_id rideable_type          started_at            ended_at  \\\n",
       "0   02668AD35674B983   docked_bike 2020-05-27 10:03:52 2020-05-27 10:16:49   \n",
       "3   58991CF1DB75BA84   docked_bike 2020-05-02 16:25:36 2020-05-02 16:39:28   \n",
       "11  6AA701EBA46EAF9A   docked_bike 2020-05-24 08:39:50 2020-05-24 08:58:22   \n",
       "12  038955FBD4851472   docked_bike 2020-05-14 14:11:34 2020-05-14 14:36:46   \n",
       "13  EFCEDBAE75A0B979   docked_bike 2020-05-03 17:34:41 2020-05-03 18:03:29   \n",
       "\n",
       "   member_casual  hour  dayofweek month  ride_length  \n",
       "0         member    10  Wednesday   May           12  \n",
       "3         casual    16   Saturday   May           13  \n",
       "11        member     8     Sunday   May           18  \n",
       "12        casual    14   Thursday   May           25  \n",
       "13        casual    17     Sunday   May           28  "
      ]
     },
     "execution_count": 25,
     "metadata": {},
     "output_type": "execute_result"
    }
   ],
   "source": [
    "tripdata.head()"
   ]
  },
  {
   "cell_type": "markdown",
   "metadata": {},
   "source": [
    "## **Trip Data**\n",
    "\n",
    "<span style=\"font-size:1.1em;\">We will now take a closer look at more specific information surrounding our dataframe. Since our business task is to find out how casual riders and members are using Cyclistic bikes differently, we are going to filter the data and create some pivot tables to compare the numbers from the two types of customers."
   ]
  },
  {
   "cell_type": "markdown",
   "metadata": {},
   "source": [
    "### **Rides by Customer Type**"
   ]
  },
  {
   "cell_type": "code",
   "execution_count": 26,
   "metadata": {
    "execution": {
     "iopub.execute_input": "2022-02-08T21:20:32.631321Z",
     "iopub.status.busy": "2022-02-08T21:20:32.631074Z",
     "iopub.status.idle": "2022-02-08T21:20:33.330202Z",
     "shell.execute_reply": "2022-02-08T21:20:33.329351Z",
     "shell.execute_reply.started": "2022-02-08T21:20:32.631285Z"
    }
   },
   "outputs": [
    {
     "data": {
      "text/html": [
       "<div>\n",
       "<style scoped>\n",
       "    .dataframe tbody tr th:only-of-type {\n",
       "        vertical-align: middle;\n",
       "    }\n",
       "\n",
       "    .dataframe tbody tr th {\n",
       "        vertical-align: top;\n",
       "    }\n",
       "\n",
       "    .dataframe thead th {\n",
       "        text-align: right;\n",
       "    }\n",
       "</style>\n",
       "<table border=\"1\" class=\"dataframe\">\n",
       "  <thead>\n",
       "    <tr style=\"text-align: right;\">\n",
       "      <th></th>\n",
       "      <th>ride_id</th>\n",
       "    </tr>\n",
       "    <tr>\n",
       "      <th>member_casual</th>\n",
       "      <th></th>\n",
       "    </tr>\n",
       "  </thead>\n",
       "  <tbody>\n",
       "    <tr>\n",
       "      <th>casual</th>\n",
       "      <td>1341170</td>\n",
       "    </tr>\n",
       "    <tr>\n",
       "      <th>member</th>\n",
       "      <td>1912326</td>\n",
       "    </tr>\n",
       "  </tbody>\n",
       "</table>\n",
       "</div>"
      ],
      "text/plain": [
       "               ride_id\n",
       "member_casual         \n",
       "casual         1341170\n",
       "member         1912326"
      ]
     },
     "execution_count": 26,
     "metadata": {},
     "output_type": "execute_result"
    }
   ],
   "source": [
    "df = tripdata.groupby('member_casual', as_index=True)[['ride_id']].count()\n",
    "df"
   ]
  },
  {
   "cell_type": "markdown",
   "metadata": {},
   "source": [
    "### **Average Ride Length**"
   ]
  },
  {
   "cell_type": "code",
   "execution_count": 27,
   "metadata": {
    "execution": {
     "iopub.execute_input": "2022-02-08T21:20:33.331965Z",
     "iopub.status.busy": "2022-02-08T21:20:33.331665Z",
     "iopub.status.idle": "2022-02-08T21:20:33.631602Z",
     "shell.execute_reply": "2022-02-08T21:20:33.630806Z",
     "shell.execute_reply.started": "2022-02-08T21:20:33.331926Z"
    }
   },
   "outputs": [
    {
     "data": {
      "text/html": [
       "<div>\n",
       "<style scoped>\n",
       "    .dataframe tbody tr th:only-of-type {\n",
       "        vertical-align: middle;\n",
       "    }\n",
       "\n",
       "    .dataframe tbody tr th {\n",
       "        vertical-align: top;\n",
       "    }\n",
       "\n",
       "    .dataframe thead th {\n",
       "        text-align: right;\n",
       "    }\n",
       "</style>\n",
       "<table border=\"1\" class=\"dataframe\">\n",
       "  <thead>\n",
       "    <tr style=\"text-align: right;\">\n",
       "      <th></th>\n",
       "      <th>ride_length</th>\n",
       "    </tr>\n",
       "    <tr>\n",
       "      <th>member_casual</th>\n",
       "      <th></th>\n",
       "    </tr>\n",
       "  </thead>\n",
       "  <tbody>\n",
       "    <tr>\n",
       "      <th>casual</th>\n",
       "      <td>44.395183</td>\n",
       "    </tr>\n",
       "    <tr>\n",
       "      <th>member</th>\n",
       "      <td>15.613393</td>\n",
       "    </tr>\n",
       "  </tbody>\n",
       "</table>\n",
       "</div>"
      ],
      "text/plain": [
       "               ride_length\n",
       "member_casual             \n",
       "casual           44.395183\n",
       "member           15.613393"
      ]
     },
     "execution_count": 27,
     "metadata": {},
     "output_type": "execute_result"
    }
   ],
   "source": [
    "arl = tripdata.groupby('member_casual', as_index=True)[['ride_length']].mean()\n",
    "arl"
   ]
  },
  {
   "cell_type": "markdown",
   "metadata": {},
   "source": [
    "### **The Most Popular Rideable Type**"
   ]
  },
  {
   "cell_type": "code",
   "execution_count": 28,
   "metadata": {
    "execution": {
     "iopub.execute_input": "2022-02-08T21:20:33.632982Z",
     "iopub.status.busy": "2022-02-08T21:20:33.632748Z",
     "iopub.status.idle": "2022-02-08T21:20:36.528232Z",
     "shell.execute_reply": "2022-02-08T21:20:36.5273Z",
     "shell.execute_reply.started": "2022-02-08T21:20:33.632953Z"
    }
   },
   "outputs": [
    {
     "data": {
      "text/html": [
       "<div>\n",
       "<style scoped>\n",
       "    .dataframe tbody tr th:only-of-type {\n",
       "        vertical-align: middle;\n",
       "    }\n",
       "\n",
       "    .dataframe tbody tr th {\n",
       "        vertical-align: top;\n",
       "    }\n",
       "\n",
       "    .dataframe thead tr th {\n",
       "        text-align: left;\n",
       "    }\n",
       "\n",
       "    .dataframe thead tr:last-of-type th {\n",
       "        text-align: right;\n",
       "    }\n",
       "</style>\n",
       "<table border=\"1\" class=\"dataframe\">\n",
       "  <thead>\n",
       "    <tr>\n",
       "      <th></th>\n",
       "      <th></th>\n",
       "      <th>count</th>\n",
       "    </tr>\n",
       "    <tr>\n",
       "      <th></th>\n",
       "      <th></th>\n",
       "      <th>ride_id</th>\n",
       "    </tr>\n",
       "    <tr>\n",
       "      <th>rideable_type</th>\n",
       "      <th>member_casual</th>\n",
       "      <th></th>\n",
       "    </tr>\n",
       "  </thead>\n",
       "  <tbody>\n",
       "    <tr>\n",
       "      <th rowspan=\"2\" valign=\"top\">classic_bike</th>\n",
       "      <th>casual</th>\n",
       "      <td>119583</td>\n",
       "    </tr>\n",
       "    <tr>\n",
       "      <th>member</th>\n",
       "      <td>328316</td>\n",
       "    </tr>\n",
       "    <tr>\n",
       "      <th rowspan=\"2\" valign=\"top\">docked_bike</th>\n",
       "      <th>casual</th>\n",
       "      <td>994191</td>\n",
       "    </tr>\n",
       "    <tr>\n",
       "      <th>member</th>\n",
       "      <td>1216872</td>\n",
       "    </tr>\n",
       "    <tr>\n",
       "      <th rowspan=\"2\" valign=\"top\">electric_bike</th>\n",
       "      <th>casual</th>\n",
       "      <td>227396</td>\n",
       "    </tr>\n",
       "    <tr>\n",
       "      <th>member</th>\n",
       "      <td>367138</td>\n",
       "    </tr>\n",
       "    <tr>\n",
       "      <th>total count</th>\n",
       "      <th></th>\n",
       "      <td>3253496</td>\n",
       "    </tr>\n",
       "  </tbody>\n",
       "</table>\n",
       "</div>"
      ],
      "text/plain": [
       "                               count\n",
       "                             ride_id\n",
       "rideable_type member_casual         \n",
       "classic_bike  casual          119583\n",
       "              member          328316\n",
       "docked_bike   casual          994191\n",
       "              member         1216872\n",
       "electric_bike casual          227396\n",
       "              member          367138\n",
       "total count                  3253496"
      ]
     },
     "execution_count": 28,
     "metadata": {},
     "output_type": "execute_result"
    }
   ],
   "source": [
    "rt_pivot = pd.pivot_table(tripdata, index=['rideable_type', 'member_casual'], values='ride_id', aggfunc=['count'],\n",
    "                         margins=True, margins_name='total count')\n",
    "rt_pivot"
   ]
  },
  {
   "cell_type": "markdown",
   "metadata": {},
   "source": [
    "### **The Most Popular Day of the Week for Bike Rentals**"
   ]
  },
  {
   "cell_type": "code",
   "execution_count": 29,
   "metadata": {
    "execution": {
     "iopub.execute_input": "2022-02-08T21:20:36.529892Z",
     "iopub.status.busy": "2022-02-08T21:20:36.529368Z",
     "iopub.status.idle": "2022-02-08T21:20:39.544081Z",
     "shell.execute_reply": "2022-02-08T21:20:39.543288Z",
     "shell.execute_reply.started": "2022-02-08T21:20:36.529857Z"
    }
   },
   "outputs": [
    {
     "data": {
      "text/html": [
       "<div>\n",
       "<style scoped>\n",
       "    .dataframe tbody tr th:only-of-type {\n",
       "        vertical-align: middle;\n",
       "    }\n",
       "\n",
       "    .dataframe tbody tr th {\n",
       "        vertical-align: top;\n",
       "    }\n",
       "\n",
       "    .dataframe thead tr th {\n",
       "        text-align: left;\n",
       "    }\n",
       "\n",
       "    .dataframe thead tr:last-of-type th {\n",
       "        text-align: right;\n",
       "    }\n",
       "</style>\n",
       "<table border=\"1\" class=\"dataframe\">\n",
       "  <thead>\n",
       "    <tr>\n",
       "      <th></th>\n",
       "      <th></th>\n",
       "      <th>count</th>\n",
       "    </tr>\n",
       "    <tr>\n",
       "      <th></th>\n",
       "      <th></th>\n",
       "      <th>ride_id</th>\n",
       "    </tr>\n",
       "    <tr>\n",
       "      <th>dayofweek</th>\n",
       "      <th>member_casual</th>\n",
       "      <th></th>\n",
       "    </tr>\n",
       "  </thead>\n",
       "  <tbody>\n",
       "    <tr>\n",
       "      <th rowspan=\"2\" valign=\"top\">Friday</th>\n",
       "      <th>casual</th>\n",
       "      <td>199389</td>\n",
       "    </tr>\n",
       "    <tr>\n",
       "      <th>member</th>\n",
       "      <td>292306</td>\n",
       "    </tr>\n",
       "    <tr>\n",
       "      <th rowspan=\"2\" valign=\"top\">Monday</th>\n",
       "      <th>casual</th>\n",
       "      <td>142904</td>\n",
       "    </tr>\n",
       "    <tr>\n",
       "      <th>member</th>\n",
       "      <td>250193</td>\n",
       "    </tr>\n",
       "    <tr>\n",
       "      <th rowspan=\"2\" valign=\"top\">Saturday</th>\n",
       "      <th>casual</th>\n",
       "      <td>313184</td>\n",
       "    </tr>\n",
       "    <tr>\n",
       "      <th>member</th>\n",
       "      <td>297072</td>\n",
       "    </tr>\n",
       "    <tr>\n",
       "      <th rowspan=\"2\" valign=\"top\">Sunday</th>\n",
       "      <th>casual</th>\n",
       "      <td>245646</td>\n",
       "    </tr>\n",
       "    <tr>\n",
       "      <th>member</th>\n",
       "      <td>243422</td>\n",
       "    </tr>\n",
       "    <tr>\n",
       "      <th rowspan=\"2\" valign=\"top\">Thursday</th>\n",
       "      <th>casual</th>\n",
       "      <td>153085</td>\n",
       "    </tr>\n",
       "    <tr>\n",
       "      <th>member</th>\n",
       "      <td>278886</td>\n",
       "    </tr>\n",
       "    <tr>\n",
       "      <th rowspan=\"2\" valign=\"top\">Tuesday</th>\n",
       "      <th>casual</th>\n",
       "      <td>140402</td>\n",
       "    </tr>\n",
       "    <tr>\n",
       "      <th>member</th>\n",
       "      <td>267723</td>\n",
       "    </tr>\n",
       "    <tr>\n",
       "      <th rowspan=\"2\" valign=\"top\">Wednesday</th>\n",
       "      <th>casual</th>\n",
       "      <td>146560</td>\n",
       "    </tr>\n",
       "    <tr>\n",
       "      <th>member</th>\n",
       "      <td>282724</td>\n",
       "    </tr>\n",
       "    <tr>\n",
       "      <th>total count</th>\n",
       "      <th></th>\n",
       "      <td>3253496</td>\n",
       "    </tr>\n",
       "  </tbody>\n",
       "</table>\n",
       "</div>"
      ],
      "text/plain": [
       "                             count\n",
       "                           ride_id\n",
       "dayofweek   member_casual         \n",
       "Friday      casual          199389\n",
       "            member          292306\n",
       "Monday      casual          142904\n",
       "            member          250193\n",
       "Saturday    casual          313184\n",
       "            member          297072\n",
       "Sunday      casual          245646\n",
       "            member          243422\n",
       "Thursday    casual          153085\n",
       "            member          278886\n",
       "Tuesday     casual          140402\n",
       "            member          267723\n",
       "Wednesday   casual          146560\n",
       "            member          282724\n",
       "total count                3253496"
      ]
     },
     "execution_count": 29,
     "metadata": {},
     "output_type": "execute_result"
    }
   ],
   "source": [
    "pdw_pivot = pd.pivot_table(tripdata, index=['dayofweek', 'member_casual'], values='ride_id', aggfunc=['count'],\n",
    "                         margins=True, margins_name='total count')\n",
    "pdw_pivot"
   ]
  },
  {
   "cell_type": "markdown",
   "metadata": {},
   "source": [
    "### **The Most Popular Month for Bike Rentals**"
   ]
  },
  {
   "cell_type": "code",
   "execution_count": 30,
   "metadata": {
    "execution": {
     "iopub.execute_input": "2022-02-08T21:20:39.546032Z",
     "iopub.status.busy": "2022-02-08T21:20:39.545375Z",
     "iopub.status.idle": "2022-02-08T21:20:42.526093Z",
     "shell.execute_reply": "2022-02-08T21:20:42.525118Z",
     "shell.execute_reply.started": "2022-02-08T21:20:39.545993Z"
    }
   },
   "outputs": [
    {
     "data": {
      "text/html": [
       "<div>\n",
       "<style scoped>\n",
       "    .dataframe tbody tr th:only-of-type {\n",
       "        vertical-align: middle;\n",
       "    }\n",
       "\n",
       "    .dataframe tbody tr th {\n",
       "        vertical-align: top;\n",
       "    }\n",
       "\n",
       "    .dataframe thead tr th {\n",
       "        text-align: left;\n",
       "    }\n",
       "\n",
       "    .dataframe thead tr:last-of-type th {\n",
       "        text-align: right;\n",
       "    }\n",
       "</style>\n",
       "<table border=\"1\" class=\"dataframe\">\n",
       "  <thead>\n",
       "    <tr>\n",
       "      <th></th>\n",
       "      <th></th>\n",
       "      <th>count</th>\n",
       "    </tr>\n",
       "    <tr>\n",
       "      <th></th>\n",
       "      <th></th>\n",
       "      <th>ride_id</th>\n",
       "    </tr>\n",
       "    <tr>\n",
       "      <th>month</th>\n",
       "      <th>member_casual</th>\n",
       "      <th></th>\n",
       "    </tr>\n",
       "  </thead>\n",
       "  <tbody>\n",
       "    <tr>\n",
       "      <th rowspan=\"2\" valign=\"top\">April</th>\n",
       "      <th>casual</th>\n",
       "      <td>117212</td>\n",
       "    </tr>\n",
       "    <tr>\n",
       "      <th>member</th>\n",
       "      <td>172817</td>\n",
       "    </tr>\n",
       "    <tr>\n",
       "      <th rowspan=\"2\" valign=\"top\">August</th>\n",
       "      <th>casual</th>\n",
       "      <td>260478</td>\n",
       "    </tr>\n",
       "    <tr>\n",
       "      <th>member</th>\n",
       "      <td>301594</td>\n",
       "    </tr>\n",
       "    <tr>\n",
       "      <th rowspan=\"2\" valign=\"top\">December</th>\n",
       "      <th>casual</th>\n",
       "      <td>24323</td>\n",
       "    </tr>\n",
       "    <tr>\n",
       "      <th>member</th>\n",
       "      <td>82883</td>\n",
       "    </tr>\n",
       "    <tr>\n",
       "      <th rowspan=\"2\" valign=\"top\">February</th>\n",
       "      <th>casual</th>\n",
       "      <td>7733</td>\n",
       "    </tr>\n",
       "    <tr>\n",
       "      <th>member</th>\n",
       "      <td>30071</td>\n",
       "    </tr>\n",
       "    <tr>\n",
       "      <th rowspan=\"2\" valign=\"top\">January</th>\n",
       "      <th>casual</th>\n",
       "      <td>14474</td>\n",
       "    </tr>\n",
       "    <tr>\n",
       "      <th>member</th>\n",
       "      <td>63015</td>\n",
       "    </tr>\n",
       "    <tr>\n",
       "      <th rowspan=\"2\" valign=\"top\">July</th>\n",
       "      <th>casual</th>\n",
       "      <td>242008</td>\n",
       "    </tr>\n",
       "    <tr>\n",
       "      <th>member</th>\n",
       "      <td>250602</td>\n",
       "    </tr>\n",
       "    <tr>\n",
       "      <th rowspan=\"2\" valign=\"top\">June</th>\n",
       "      <th>casual</th>\n",
       "      <td>133729</td>\n",
       "    </tr>\n",
       "    <tr>\n",
       "      <th>member</th>\n",
       "      <td>161625</td>\n",
       "    </tr>\n",
       "    <tr>\n",
       "      <th rowspan=\"2\" valign=\"top\">March</th>\n",
       "      <th>casual</th>\n",
       "      <td>70435</td>\n",
       "    </tr>\n",
       "    <tr>\n",
       "      <th>member</th>\n",
       "      <td>121218</td>\n",
       "    </tr>\n",
       "    <tr>\n",
       "      <th rowspan=\"2\" valign=\"top\">May</th>\n",
       "      <th>casual</th>\n",
       "      <td>72869</td>\n",
       "    </tr>\n",
       "    <tr>\n",
       "      <th>member</th>\n",
       "      <td>94213</td>\n",
       "    </tr>\n",
       "    <tr>\n",
       "      <th rowspan=\"2\" valign=\"top\">November</th>\n",
       "      <th>casual</th>\n",
       "      <td>71932</td>\n",
       "    </tr>\n",
       "    <tr>\n",
       "      <th>member</th>\n",
       "      <td>147636</td>\n",
       "    </tr>\n",
       "    <tr>\n",
       "      <th rowspan=\"2\" valign=\"top\">October</th>\n",
       "      <th>casual</th>\n",
       "      <td>121736</td>\n",
       "    </tr>\n",
       "    <tr>\n",
       "      <th>member</th>\n",
       "      <td>216156</td>\n",
       "    </tr>\n",
       "    <tr>\n",
       "      <th rowspan=\"2\" valign=\"top\">September</th>\n",
       "      <th>casual</th>\n",
       "      <td>204241</td>\n",
       "    </tr>\n",
       "    <tr>\n",
       "      <th>member</th>\n",
       "      <td>270496</td>\n",
       "    </tr>\n",
       "    <tr>\n",
       "      <th>total count</th>\n",
       "      <th></th>\n",
       "      <td>3253496</td>\n",
       "    </tr>\n",
       "  </tbody>\n",
       "</table>\n",
       "</div>"
      ],
      "text/plain": [
       "                             count\n",
       "                           ride_id\n",
       "month       member_casual         \n",
       "April       casual          117212\n",
       "            member          172817\n",
       "August      casual          260478\n",
       "            member          301594\n",
       "December    casual           24323\n",
       "            member           82883\n",
       "February    casual            7733\n",
       "            member           30071\n",
       "January     casual           14474\n",
       "            member           63015\n",
       "July        casual          242008\n",
       "            member          250602\n",
       "June        casual          133729\n",
       "            member          161625\n",
       "March       casual           70435\n",
       "            member          121218\n",
       "May         casual           72869\n",
       "            member           94213\n",
       "November    casual           71932\n",
       "            member          147636\n",
       "October     casual          121736\n",
       "            member          216156\n",
       "September   casual          204241\n",
       "            member          270496\n",
       "total count                3253496"
      ]
     },
     "execution_count": 30,
     "metadata": {},
     "output_type": "execute_result"
    }
   ],
   "source": [
    "pm_pivot = pd.pivot_table(tripdata, index=['month', 'member_casual'], values='ride_id', aggfunc=['count'],\n",
    "                         margins=True, margins_name='total count')\n",
    "pm_pivot"
   ]
  },
  {
   "cell_type": "markdown",
   "metadata": {},
   "source": [
    "### **Average Ride Length by Day of the Week**\n",
    "    \n",
    "<span style=\"font-size:1.1em;\">Let's look into how long the rides last – in minutes – by day of the week."
   ]
  },
  {
   "cell_type": "code",
   "execution_count": 31,
   "metadata": {
    "execution": {
     "iopub.execute_input": "2022-02-08T21:20:42.531026Z",
     "iopub.status.busy": "2022-02-08T21:20:42.530786Z",
     "iopub.status.idle": "2022-02-08T21:20:44.299967Z",
     "shell.execute_reply": "2022-02-08T21:20:44.2991Z",
     "shell.execute_reply.started": "2022-02-08T21:20:42.530992Z"
    }
   },
   "outputs": [
    {
     "data": {
      "text/html": [
       "<div>\n",
       "<style scoped>\n",
       "    .dataframe tbody tr th:only-of-type {\n",
       "        vertical-align: middle;\n",
       "    }\n",
       "\n",
       "    .dataframe tbody tr th {\n",
       "        vertical-align: top;\n",
       "    }\n",
       "\n",
       "    .dataframe thead tr th {\n",
       "        text-align: left;\n",
       "    }\n",
       "\n",
       "    .dataframe thead tr:last-of-type th {\n",
       "        text-align: right;\n",
       "    }\n",
       "</style>\n",
       "<table border=\"1\" class=\"dataframe\">\n",
       "  <thead>\n",
       "    <tr>\n",
       "      <th></th>\n",
       "      <th></th>\n",
       "      <th>mean</th>\n",
       "    </tr>\n",
       "    <tr>\n",
       "      <th></th>\n",
       "      <th></th>\n",
       "      <th>ride_length</th>\n",
       "    </tr>\n",
       "    <tr>\n",
       "      <th>dayofweek</th>\n",
       "      <th>member_casual</th>\n",
       "      <th></th>\n",
       "    </tr>\n",
       "  </thead>\n",
       "  <tbody>\n",
       "    <tr>\n",
       "      <th rowspan=\"2\" valign=\"top\">Friday</th>\n",
       "      <th>casual</th>\n",
       "      <td>42.111952</td>\n",
       "    </tr>\n",
       "    <tr>\n",
       "      <th>member</th>\n",
       "      <td>15.333442</td>\n",
       "    </tr>\n",
       "    <tr>\n",
       "      <th rowspan=\"2\" valign=\"top\">Monday</th>\n",
       "      <th>casual</th>\n",
       "      <td>44.282483</td>\n",
       "    </tr>\n",
       "    <tr>\n",
       "      <th>member</th>\n",
       "      <td>14.998829</td>\n",
       "    </tr>\n",
       "    <tr>\n",
       "      <th rowspan=\"2\" valign=\"top\">Saturday</th>\n",
       "      <th>casual</th>\n",
       "      <td>46.286681</td>\n",
       "    </tr>\n",
       "    <tr>\n",
       "      <th>member</th>\n",
       "      <td>17.301533</td>\n",
       "    </tr>\n",
       "    <tr>\n",
       "      <th rowspan=\"2\" valign=\"top\">Sunday</th>\n",
       "      <th>casual</th>\n",
       "      <td>50.323836</td>\n",
       "    </tr>\n",
       "    <tr>\n",
       "      <th>member</th>\n",
       "      <td>17.557973</td>\n",
       "    </tr>\n",
       "    <tr>\n",
       "      <th rowspan=\"2\" valign=\"top\">Thursday</th>\n",
       "      <th>casual</th>\n",
       "      <td>41.845210</td>\n",
       "    </tr>\n",
       "    <tr>\n",
       "      <th>member</th>\n",
       "      <td>14.668144</td>\n",
       "    </tr>\n",
       "    <tr>\n",
       "      <th rowspan=\"2\" valign=\"top\">Tuesday</th>\n",
       "      <th>casual</th>\n",
       "      <td>39.704221</td>\n",
       "    </tr>\n",
       "    <tr>\n",
       "      <th>member</th>\n",
       "      <td>14.617836</td>\n",
       "    </tr>\n",
       "    <tr>\n",
       "      <th rowspan=\"2\" valign=\"top\">Wednesday</th>\n",
       "      <th>casual</th>\n",
       "      <td>40.789854</td>\n",
       "    </tr>\n",
       "    <tr>\n",
       "      <th>member</th>\n",
       "      <td>14.873764</td>\n",
       "    </tr>\n",
       "    <tr>\n",
       "      <th>total ride_length mean</th>\n",
       "      <th></th>\n",
       "      <td>27.477946</td>\n",
       "    </tr>\n",
       "  </tbody>\n",
       "</table>\n",
       "</div>"
      ],
      "text/plain": [
       "                                            mean\n",
       "                                     ride_length\n",
       "dayofweek              member_casual            \n",
       "Friday                 casual          42.111952\n",
       "                       member          15.333442\n",
       "Monday                 casual          44.282483\n",
       "                       member          14.998829\n",
       "Saturday               casual          46.286681\n",
       "                       member          17.301533\n",
       "Sunday                 casual          50.323836\n",
       "                       member          17.557973\n",
       "Thursday               casual          41.845210\n",
       "                       member          14.668144\n",
       "Tuesday                casual          39.704221\n",
       "                       member          14.617836\n",
       "Wednesday              casual          40.789854\n",
       "                       member          14.873764\n",
       "total ride_length mean                 27.477946"
      ]
     },
     "execution_count": 31,
     "metadata": {},
     "output_type": "execute_result"
    }
   ],
   "source": [
    "rdw_pivot = pd.pivot_table(tripdata, index=['dayofweek', 'member_casual'], values='ride_length', aggfunc=['mean'],\n",
    "                         margins=True, margins_name='total ride_length mean')\n",
    "rdw_pivot"
   ]
  },
  {
   "cell_type": "markdown",
   "metadata": {},
   "source": [
    "### **Average Ride Length by Month**\n",
    "    \n",
    "<span style=\"font-size:1.1em;\">Let's also check the average ride length – in minutes – by month."
   ]
  },
  {
   "cell_type": "code",
   "execution_count": 32,
   "metadata": {
    "execution": {
     "iopub.execute_input": "2022-02-08T21:20:44.30207Z",
     "iopub.status.busy": "2022-02-08T21:20:44.30177Z",
     "iopub.status.idle": "2022-02-08T21:20:46.016575Z",
     "shell.execute_reply": "2022-02-08T21:20:46.015643Z",
     "shell.execute_reply.started": "2022-02-08T21:20:44.302029Z"
    }
   },
   "outputs": [
    {
     "data": {
      "text/html": [
       "<div>\n",
       "<style scoped>\n",
       "    .dataframe tbody tr th:only-of-type {\n",
       "        vertical-align: middle;\n",
       "    }\n",
       "\n",
       "    .dataframe tbody tr th {\n",
       "        vertical-align: top;\n",
       "    }\n",
       "\n",
       "    .dataframe thead tr th {\n",
       "        text-align: left;\n",
       "    }\n",
       "\n",
       "    .dataframe thead tr:last-of-type th {\n",
       "        text-align: right;\n",
       "    }\n",
       "</style>\n",
       "<table border=\"1\" class=\"dataframe\">\n",
       "  <thead>\n",
       "    <tr>\n",
       "      <th></th>\n",
       "      <th></th>\n",
       "      <th>mean</th>\n",
       "    </tr>\n",
       "    <tr>\n",
       "      <th></th>\n",
       "      <th></th>\n",
       "      <th>ride_length</th>\n",
       "    </tr>\n",
       "    <tr>\n",
       "      <th>month</th>\n",
       "      <th>member_casual</th>\n",
       "      <th></th>\n",
       "    </tr>\n",
       "  </thead>\n",
       "  <tbody>\n",
       "    <tr>\n",
       "      <th rowspan=\"2\" valign=\"top\">April</th>\n",
       "      <th>casual</th>\n",
       "      <td>37.577484</td>\n",
       "    </tr>\n",
       "    <tr>\n",
       "      <th>member</th>\n",
       "      <td>14.415746</td>\n",
       "    </tr>\n",
       "    <tr>\n",
       "      <th rowspan=\"2\" valign=\"top\">August</th>\n",
       "      <th>casual</th>\n",
       "      <td>45.571004</td>\n",
       "    </tr>\n",
       "    <tr>\n",
       "      <th>member</th>\n",
       "      <td>16.648166</td>\n",
       "    </tr>\n",
       "    <tr>\n",
       "      <th rowspan=\"2\" valign=\"top\">December</th>\n",
       "      <th>casual</th>\n",
       "      <td>27.136167</td>\n",
       "    </tr>\n",
       "    <tr>\n",
       "      <th>member</th>\n",
       "      <td>12.419386</td>\n",
       "    </tr>\n",
       "    <tr>\n",
       "      <th rowspan=\"2\" valign=\"top\">February</th>\n",
       "      <th>casual</th>\n",
       "      <td>48.973620</td>\n",
       "    </tr>\n",
       "    <tr>\n",
       "      <th>member</th>\n",
       "      <td>18.072728</td>\n",
       "    </tr>\n",
       "    <tr>\n",
       "      <th rowspan=\"2\" valign=\"top\">January</th>\n",
       "      <th>casual</th>\n",
       "      <td>24.155797</td>\n",
       "    </tr>\n",
       "    <tr>\n",
       "      <th>member</th>\n",
       "      <td>12.607379</td>\n",
       "    </tr>\n",
       "    <tr>\n",
       "      <th rowspan=\"2\" valign=\"top\">July</th>\n",
       "      <th>casual</th>\n",
       "      <td>60.091468</td>\n",
       "    </tr>\n",
       "    <tr>\n",
       "      <th>member</th>\n",
       "      <td>17.589289</td>\n",
       "    </tr>\n",
       "    <tr>\n",
       "      <th rowspan=\"2\" valign=\"top\">June</th>\n",
       "      <th>casual</th>\n",
       "      <td>51.925686</td>\n",
       "    </tr>\n",
       "    <tr>\n",
       "      <th>member</th>\n",
       "      <td>18.541222</td>\n",
       "    </tr>\n",
       "    <tr>\n",
       "      <th rowspan=\"2\" valign=\"top\">March</th>\n",
       "      <th>casual</th>\n",
       "      <td>37.465124</td>\n",
       "    </tr>\n",
       "    <tr>\n",
       "      <th>member</th>\n",
       "      <td>13.661090</td>\n",
       "    </tr>\n",
       "    <tr>\n",
       "      <th rowspan=\"2\" valign=\"top\">May</th>\n",
       "      <th>casual</th>\n",
       "      <td>51.010636</td>\n",
       "    </tr>\n",
       "    <tr>\n",
       "      <th>member</th>\n",
       "      <td>19.536635</td>\n",
       "    </tr>\n",
       "    <tr>\n",
       "      <th rowspan=\"2\" valign=\"top\">November</th>\n",
       "      <th>casual</th>\n",
       "      <td>32.828421</td>\n",
       "    </tr>\n",
       "    <tr>\n",
       "      <th>member</th>\n",
       "      <td>13.317070</td>\n",
       "    </tr>\n",
       "    <tr>\n",
       "      <th rowspan=\"2\" valign=\"top\">October</th>\n",
       "      <th>casual</th>\n",
       "      <td>30.932715</td>\n",
       "    </tr>\n",
       "    <tr>\n",
       "      <th>member</th>\n",
       "      <td>13.759715</td>\n",
       "    </tr>\n",
       "    <tr>\n",
       "      <th rowspan=\"2\" valign=\"top\">September</th>\n",
       "      <th>casual</th>\n",
       "      <td>38.722685</td>\n",
       "    </tr>\n",
       "    <tr>\n",
       "      <th>member</th>\n",
       "      <td>15.293442</td>\n",
       "    </tr>\n",
       "    <tr>\n",
       "      <th>total ride_length mean</th>\n",
       "      <th></th>\n",
       "      <td>27.477946</td>\n",
       "    </tr>\n",
       "  </tbody>\n",
       "</table>\n",
       "</div>"
      ],
      "text/plain": [
       "                                            mean\n",
       "                                     ride_length\n",
       "month                  member_casual            \n",
       "April                  casual          37.577484\n",
       "                       member          14.415746\n",
       "August                 casual          45.571004\n",
       "                       member          16.648166\n",
       "December               casual          27.136167\n",
       "                       member          12.419386\n",
       "February               casual          48.973620\n",
       "                       member          18.072728\n",
       "January                casual          24.155797\n",
       "                       member          12.607379\n",
       "July                   casual          60.091468\n",
       "                       member          17.589289\n",
       "June                   casual          51.925686\n",
       "                       member          18.541222\n",
       "March                  casual          37.465124\n",
       "                       member          13.661090\n",
       "May                    casual          51.010636\n",
       "                       member          19.536635\n",
       "November               casual          32.828421\n",
       "                       member          13.317070\n",
       "October                casual          30.932715\n",
       "                       member          13.759715\n",
       "September              casual          38.722685\n",
       "                       member          15.293442\n",
       "total ride_length mean                 27.477946"
      ]
     },
     "execution_count": 32,
     "metadata": {},
     "output_type": "execute_result"
    }
   ],
   "source": [
    "rlm_pivot = pd.pivot_table(tripdata, index=['month', 'member_casual'], values='ride_length', aggfunc=['mean'],\n",
    "                         margins=True, margins_name='total ride_length mean')\n",
    "rlm_pivot"
   ]
  },
  {
   "cell_type": "markdown",
   "metadata": {},
   "source": [
    "### **Total Number of Rides per Hour**"
   ]
  },
  {
   "cell_type": "code",
   "execution_count": 33,
   "metadata": {
    "execution": {
     "iopub.execute_input": "2022-02-08T21:20:46.018017Z",
     "iopub.status.busy": "2022-02-08T21:20:46.017786Z",
     "iopub.status.idle": "2022-02-08T21:20:48.249571Z",
     "shell.execute_reply": "2022-02-08T21:20:48.248637Z",
     "shell.execute_reply.started": "2022-02-08T21:20:46.017989Z"
    }
   },
   "outputs": [
    {
     "data": {
      "text/html": [
       "<div>\n",
       "<style scoped>\n",
       "    .dataframe tbody tr th:only-of-type {\n",
       "        vertical-align: middle;\n",
       "    }\n",
       "\n",
       "    .dataframe tbody tr th {\n",
       "        vertical-align: top;\n",
       "    }\n",
       "\n",
       "    .dataframe thead tr th {\n",
       "        text-align: left;\n",
       "    }\n",
       "\n",
       "    .dataframe thead tr:last-of-type th {\n",
       "        text-align: right;\n",
       "    }\n",
       "</style>\n",
       "<table border=\"1\" class=\"dataframe\">\n",
       "  <thead>\n",
       "    <tr>\n",
       "      <th></th>\n",
       "      <th></th>\n",
       "      <th>count</th>\n",
       "    </tr>\n",
       "    <tr>\n",
       "      <th></th>\n",
       "      <th></th>\n",
       "      <th>ride_id</th>\n",
       "    </tr>\n",
       "    <tr>\n",
       "      <th>hour</th>\n",
       "      <th>member_casual</th>\n",
       "      <th></th>\n",
       "    </tr>\n",
       "  </thead>\n",
       "  <tbody>\n",
       "    <tr>\n",
       "      <th rowspan=\"2\" valign=\"top\">0</th>\n",
       "      <th>casual</th>\n",
       "      <td>21698</td>\n",
       "    </tr>\n",
       "    <tr>\n",
       "      <th>member</th>\n",
       "      <td>12014</td>\n",
       "    </tr>\n",
       "    <tr>\n",
       "      <th rowspan=\"2\" valign=\"top\">1</th>\n",
       "      <th>casual</th>\n",
       "      <td>13626</td>\n",
       "    </tr>\n",
       "    <tr>\n",
       "      <th>member</th>\n",
       "      <td>6805</td>\n",
       "    </tr>\n",
       "    <tr>\n",
       "      <th rowspan=\"2\" valign=\"top\">2</th>\n",
       "      <th>casual</th>\n",
       "      <td>7283</td>\n",
       "    </tr>\n",
       "    <tr>\n",
       "      <th>member</th>\n",
       "      <td>3487</td>\n",
       "    </tr>\n",
       "    <tr>\n",
       "      <th rowspan=\"2\" valign=\"top\">3</th>\n",
       "      <th>casual</th>\n",
       "      <td>3910</td>\n",
       "    </tr>\n",
       "    <tr>\n",
       "      <th>member</th>\n",
       "      <td>2225</td>\n",
       "    </tr>\n",
       "    <tr>\n",
       "      <th rowspan=\"2\" valign=\"top\">4</th>\n",
       "      <th>casual</th>\n",
       "      <td>3229</td>\n",
       "    </tr>\n",
       "    <tr>\n",
       "      <th>member</th>\n",
       "      <td>3427</td>\n",
       "    </tr>\n",
       "    <tr>\n",
       "      <th rowspan=\"2\" valign=\"top\">5</th>\n",
       "      <th>casual</th>\n",
       "      <td>5082</td>\n",
       "    </tr>\n",
       "    <tr>\n",
       "      <th>member</th>\n",
       "      <td>16339</td>\n",
       "    </tr>\n",
       "    <tr>\n",
       "      <th rowspan=\"2\" valign=\"top\">6</th>\n",
       "      <th>casual</th>\n",
       "      <td>12048</td>\n",
       "    </tr>\n",
       "    <tr>\n",
       "      <th>member</th>\n",
       "      <td>52576</td>\n",
       "    </tr>\n",
       "    <tr>\n",
       "      <th rowspan=\"2\" valign=\"top\">7</th>\n",
       "      <th>casual</th>\n",
       "      <td>21374</td>\n",
       "    </tr>\n",
       "    <tr>\n",
       "      <th>member</th>\n",
       "      <td>88684</td>\n",
       "    </tr>\n",
       "    <tr>\n",
       "      <th rowspan=\"2\" valign=\"top\">8</th>\n",
       "      <th>casual</th>\n",
       "      <td>29588</td>\n",
       "    </tr>\n",
       "    <tr>\n",
       "      <th>member</th>\n",
       "      <td>96434</td>\n",
       "    </tr>\n",
       "    <tr>\n",
       "      <th rowspan=\"2\" valign=\"top\">9</th>\n",
       "      <th>casual</th>\n",
       "      <td>37687</td>\n",
       "    </tr>\n",
       "    <tr>\n",
       "      <th>member</th>\n",
       "      <td>81153</td>\n",
       "    </tr>\n",
       "    <tr>\n",
       "      <th rowspan=\"2\" valign=\"top\">10</th>\n",
       "      <th>casual</th>\n",
       "      <td>54189</td>\n",
       "    </tr>\n",
       "    <tr>\n",
       "      <th>member</th>\n",
       "      <td>85487</td>\n",
       "    </tr>\n",
       "    <tr>\n",
       "      <th rowspan=\"2\" valign=\"top\">11</th>\n",
       "      <th>casual</th>\n",
       "      <td>74566</td>\n",
       "    </tr>\n",
       "    <tr>\n",
       "      <th>member</th>\n",
       "      <td>106483</td>\n",
       "    </tr>\n",
       "    <tr>\n",
       "      <th rowspan=\"2\" valign=\"top\">12</th>\n",
       "      <th>casual</th>\n",
       "      <td>91279</td>\n",
       "    </tr>\n",
       "    <tr>\n",
       "      <th>member</th>\n",
       "      <td>125539</td>\n",
       "    </tr>\n",
       "    <tr>\n",
       "      <th rowspan=\"2\" valign=\"top\">13</th>\n",
       "      <th>casual</th>\n",
       "      <td>98779</td>\n",
       "    </tr>\n",
       "    <tr>\n",
       "      <th>member</th>\n",
       "      <td>123910</td>\n",
       "    </tr>\n",
       "    <tr>\n",
       "      <th rowspan=\"2\" valign=\"top\">14</th>\n",
       "      <th>casual</th>\n",
       "      <td>105028</td>\n",
       "    </tr>\n",
       "    <tr>\n",
       "      <th>member</th>\n",
       "      <td>124185</td>\n",
       "    </tr>\n",
       "    <tr>\n",
       "      <th rowspan=\"2\" valign=\"top\">15</th>\n",
       "      <th>casual</th>\n",
       "      <td>110761</td>\n",
       "    </tr>\n",
       "    <tr>\n",
       "      <th>member</th>\n",
       "      <td>138165</td>\n",
       "    </tr>\n",
       "    <tr>\n",
       "      <th rowspan=\"2\" valign=\"top\">16</th>\n",
       "      <th>casual</th>\n",
       "      <td>118337</td>\n",
       "    </tr>\n",
       "    <tr>\n",
       "      <th>member</th>\n",
       "      <td>166502</td>\n",
       "    </tr>\n",
       "    <tr>\n",
       "      <th rowspan=\"2\" valign=\"top\">17</th>\n",
       "      <th>casual</th>\n",
       "      <td>133279</td>\n",
       "    </tr>\n",
       "    <tr>\n",
       "      <th>member</th>\n",
       "      <td>202255</td>\n",
       "    </tr>\n",
       "    <tr>\n",
       "      <th rowspan=\"2\" valign=\"top\">18</th>\n",
       "      <th>casual</th>\n",
       "      <td>120342</td>\n",
       "    </tr>\n",
       "    <tr>\n",
       "      <th>member</th>\n",
       "      <td>176723</td>\n",
       "    </tr>\n",
       "    <tr>\n",
       "      <th rowspan=\"2\" valign=\"top\">19</th>\n",
       "      <th>casual</th>\n",
       "      <td>92024</td>\n",
       "    </tr>\n",
       "    <tr>\n",
       "      <th>member</th>\n",
       "      <td>123332</td>\n",
       "    </tr>\n",
       "    <tr>\n",
       "      <th rowspan=\"2\" valign=\"top\">20</th>\n",
       "      <th>casual</th>\n",
       "      <td>64368</td>\n",
       "    </tr>\n",
       "    <tr>\n",
       "      <th>member</th>\n",
       "      <td>75841</td>\n",
       "    </tr>\n",
       "    <tr>\n",
       "      <th rowspan=\"2\" valign=\"top\">21</th>\n",
       "      <th>casual</th>\n",
       "      <td>46939</td>\n",
       "    </tr>\n",
       "    <tr>\n",
       "      <th>member</th>\n",
       "      <td>45808</td>\n",
       "    </tr>\n",
       "    <tr>\n",
       "      <th rowspan=\"2\" valign=\"top\">22</th>\n",
       "      <th>casual</th>\n",
       "      <td>42055</td>\n",
       "    </tr>\n",
       "    <tr>\n",
       "      <th>member</th>\n",
       "      <td>32663</td>\n",
       "    </tr>\n",
       "    <tr>\n",
       "      <th rowspan=\"2\" valign=\"top\">23</th>\n",
       "      <th>casual</th>\n",
       "      <td>33699</td>\n",
       "    </tr>\n",
       "    <tr>\n",
       "      <th>member</th>\n",
       "      <td>22289</td>\n",
       "    </tr>\n",
       "    <tr>\n",
       "      <th>total ride_id count</th>\n",
       "      <th></th>\n",
       "      <td>3253496</td>\n",
       "    </tr>\n",
       "  </tbody>\n",
       "</table>\n",
       "</div>"
      ],
      "text/plain": [
       "                                     count\n",
       "                                   ride_id\n",
       "hour                member_casual         \n",
       "0                   casual           21698\n",
       "                    member           12014\n",
       "1                   casual           13626\n",
       "                    member            6805\n",
       "2                   casual            7283\n",
       "                    member            3487\n",
       "3                   casual            3910\n",
       "                    member            2225\n",
       "4                   casual            3229\n",
       "                    member            3427\n",
       "5                   casual            5082\n",
       "                    member           16339\n",
       "6                   casual           12048\n",
       "                    member           52576\n",
       "7                   casual           21374\n",
       "                    member           88684\n",
       "8                   casual           29588\n",
       "                    member           96434\n",
       "9                   casual           37687\n",
       "                    member           81153\n",
       "10                  casual           54189\n",
       "                    member           85487\n",
       "11                  casual           74566\n",
       "                    member          106483\n",
       "12                  casual           91279\n",
       "                    member          125539\n",
       "13                  casual           98779\n",
       "                    member          123910\n",
       "14                  casual          105028\n",
       "                    member          124185\n",
       "15                  casual          110761\n",
       "                    member          138165\n",
       "16                  casual          118337\n",
       "                    member          166502\n",
       "17                  casual          133279\n",
       "                    member          202255\n",
       "18                  casual          120342\n",
       "                    member          176723\n",
       "19                  casual           92024\n",
       "                    member          123332\n",
       "20                  casual           64368\n",
       "                    member           75841\n",
       "21                  casual           46939\n",
       "                    member           45808\n",
       "22                  casual           42055\n",
       "                    member           32663\n",
       "23                  casual           33699\n",
       "                    member           22289\n",
       "total ride_id count                3253496"
      ]
     },
     "execution_count": 33,
     "metadata": {},
     "output_type": "execute_result"
    }
   ],
   "source": [
    "tnr_pivot = pd.pivot_table(tripdata, index=['hour', 'member_casual'], values='ride_id', aggfunc=['count'],\n",
    "                         margins=True, margins_name='total ride_id count')\n",
    "tnr_pivot"
   ]
  },
  {
   "cell_type": "markdown",
   "metadata": {},
   "source": [
    "## **5. SHARE**\n",
    "\n",
    "<span style=\"font-size:1.1em;\">We will now visualize the information we have discovered through our analysis."
   ]
  },
  {
   "cell_type": "markdown",
   "metadata": {},
   "source": [
    "### **Visualizing Rides by User Type**"
   ]
  },
  {
   "cell_type": "code",
   "execution_count": 34,
   "metadata": {
    "execution": {
     "iopub.execute_input": "2022-02-08T21:20:48.251191Z",
     "iopub.status.busy": "2022-02-08T21:20:48.250985Z",
     "iopub.status.idle": "2022-02-08T21:20:48.474539Z",
     "shell.execute_reply": "2022-02-08T21:20:48.473476Z",
     "shell.execute_reply.started": "2022-02-08T21:20:48.251165Z"
    }
   },
   "outputs": [
    {
     "data": {
      "image/png": "[encoded data removed]",
      "text/plain": [
       "<Figure size 720x576 with 1 Axes>"
      ]
     },
     "metadata": {},
     "output_type": "display_data"
    }
   ],
   "source": [
    "df['ride_id'].plot.pie(x='member_casual', ylabel='Total Number of Rides', title='Rides by User Type', legend=True,\n",
    "                       autopct='%1.0f%%', fontsize='12', startangle=0, colors=['#246182', '#c76b16'], figsize=(10, 8))\n",
    "plt.show()"
   ]
  },
  {
   "cell_type": "markdown",
   "metadata": {},
   "source": [
    "<span style=\"font-size:1.1em;\">This pie chart shows us that annual members represent the majority of Cyclistic's bike-sharing system users, making up for 59% of total users."
   ]
  },
  {
   "cell_type": "markdown",
   "metadata": {},
   "source": [
    "### **Visualizing Average Ride Length**"
   ]
  },
  {
   "cell_type": "code",
   "execution_count": 35,
   "metadata": {
    "execution": {
     "iopub.execute_input": "2022-02-08T21:20:48.476688Z",
     "iopub.status.busy": "2022-02-08T21:20:48.476264Z",
     "iopub.status.idle": "2022-02-08T21:20:49.017335Z",
     "shell.execute_reply": "2022-02-08T21:20:49.016486Z",
     "shell.execute_reply.started": "2022-02-08T21:20:48.47664Z"
    }
   },
   "outputs": [
    {
     "data": {
      "image/png": "[encoded data removed]",
      "text/plain": [
       "<Figure size 576x288 with 1 Axes>"
      ]
     },
     "metadata": {
      "needs_background": "light"
     },
     "output_type": "display_data"
    }
   ],
   "source": [
    "df1 = tripdata[['ride_length', 'member_casual']]\n",
    "df1 = df1.groupby(['member_casual'], as_index=False)[['ride_length']].mean()\n",
    "\n",
    "plt.figure(figsize = (8,4))\n",
    "sns.set_theme(style='white')\n",
    "sns.barplot(data=df1, x='member_casual', y='ride_length', palette='tab10').set_title('Average Ride Length')\n",
    "\n",
    "plt.xlabel('User Type')\n",
    "plt.ylabel('Average Ride Length (Minutes)')\n",
    "plt.show()"
   ]
  },
  {
   "cell_type": "markdown",
   "metadata": {},
   "source": [
    "<span style=\"font-size:1.1em;\">The bar chart above shows us that casual riders have a much greater ride length average than members. The average ride length is **44 minutes** for casual riders and **16 minutes** for members."
   ]
  },
  {
   "cell_type": "markdown",
   "metadata": {},
   "source": [
    "### **Visualizing the Most Popular Rideable Type**"
   ]
  },
  {
   "cell_type": "code",
   "execution_count": 36,
   "metadata": {
    "execution": {
     "iopub.execute_input": "2022-02-08T21:20:49.018818Z",
     "iopub.status.busy": "2022-02-08T21:20:49.018539Z",
     "iopub.status.idle": "2022-02-08T21:20:50.50487Z",
     "shell.execute_reply": "2022-02-08T21:20:50.504102Z",
     "shell.execute_reply.started": "2022-02-08T21:20:49.018788Z"
    }
   },
   "outputs": [
    {
     "data": {
      "image/png": "[encoded data removed]",
      "text/plain": [
       "<Figure size 720x360 with 1 Axes>"
      ]
     },
     "metadata": {},
     "output_type": "display_data"
    }
   ],
   "source": [
    "df2 = tripdata[['rideable_type', 'member_casual', 'ride_id']]\n",
    "df2 = df2.groupby(['rideable_type', 'member_casual'], as_index=False)[['ride_id']].count()\n",
    "\n",
    "plt.figure(figsize = (10,5))\n",
    "sns.set_theme(style='white')\n",
    "plt.ticklabel_format(style='plain', axis='x')\n",
    "sns.barplot(x='ride_id', y='rideable_type', hue='member_casual', palette='tab10', data=df2).set_title('The Most Popular Rideable Type')\n",
    "\n",
    "plt.xlabel('Total Number of Rides')\n",
    "plt.ylabel('Rideable Type')\n",
    "plt.show()"
   ]
  },
  {
   "cell_type": "markdown",
   "metadata": {},
   "source": [
    "<span style=\"font-size:1.1em;\">According to our dataset, Cyclistic's bikes are divided into three groups: *classic bike*, *docked bike*, and *electric bike*. It is clear in the visualization that **docked bike** is the most rented rideable type by both casual riders and members. This could either be explained by the users showing a preference for the docked type or, more plausibly, the company has invested more heavily in a docked-based system rather than the other two options."
   ]
  },
  {
   "cell_type": "markdown",
   "metadata": {},
   "source": [
    "### **Visualizing the Most Popular Day of the Week for Bike Rentals**"
   ]
  },
  {
   "cell_type": "code",
   "execution_count": 37,
   "metadata": {
    "execution": {
     "iopub.execute_input": "2022-02-08T21:20:50.506302Z",
     "iopub.status.busy": "2022-02-08T21:20:50.506082Z",
     "iopub.status.idle": "2022-02-08T21:20:52.153109Z",
     "shell.execute_reply": "2022-02-08T21:20:52.152275Z",
     "shell.execute_reply.started": "2022-02-08T21:20:50.506275Z"
    }
   },
   "outputs": [
    {
     "data": {
      "image/png": "[encoded data removed]",
      "text/plain": [
       "<Figure size 864x432 with 1 Axes>"
      ]
     },
     "metadata": {},
     "output_type": "display_data"
    }
   ],
   "source": [
    "df3 = tripdata[['dayofweek', 'member_casual', 'ride_id']]\n",
    "df3 = df3.groupby(['dayofweek', 'member_casual'], as_index=False)[['ride_id']].count()\n",
    "\n",
    "plt.figure(figsize = (12,6))\n",
    "sns.set_theme(style='white')\n",
    "sns.barplot(data=df3, x='dayofweek', y='ride_id', hue='member_casual', palette='tab10',\n",
    "            order=['Monday', 'Tuesday', 'Wednesday', 'Thursday', 'Friday', 'Saturday',\n",
    "                   'Sunday']).set_title('The Most Popular Day of the Week for Bike Rentals')\n",
    "\n",
    "plt.xlabel('Days of the Week')\n",
    "plt.ylabel('Total Number of Rides')\n",
    "plt.show()"
   ]
  },
  {
   "cell_type": "markdown",
   "metadata": {},
   "source": [
    "<span style=\"font-size:1.1em;\">When it comes to bike rentals by day of the week, there are similarities and differences between casual riders and members. For instance, Saturday is the most popular day for both user types, and on Sunday their number of rides is very much the same. On the other hand, the two groups differ considerably when it comes to bike rentals throughout the weekdays: members consistently rent bikes on a daily basis while casual riders present lower weekday numbers compared to the weekend."
   ]
  },
  {
   "cell_type": "markdown",
   "metadata": {},
   "source": [
    "### **Visualizing the Most Popular Month of the Year for Bike Rentals**"
   ]
  },
  {
   "cell_type": "code",
   "execution_count": 38,
   "metadata": {
    "execution": {
     "iopub.execute_input": "2022-02-08T21:20:52.154386Z",
     "iopub.status.busy": "2022-02-08T21:20:52.154175Z",
     "iopub.status.idle": "2022-02-08T21:20:53.883741Z",
     "shell.execute_reply": "2022-02-08T21:20:53.882856Z",
     "shell.execute_reply.started": "2022-02-08T21:20:52.15436Z"
    }
   },
   "outputs": [
    {
     "data": {
      "image/png": "[encoded data removed]",
      "text/plain": [
       "<Figure size 1008x432 with 1 Axes>"
      ]
     },
     "metadata": {},
     "output_type": "display_data"
    }
   ],
   "source": [
    "df4 = tripdata[['month', 'member_casual', 'ride_id']]\n",
    "df4 = df4.groupby(['month', 'member_casual'], as_index=False)[['ride_id']].count()\n",
    "\n",
    "plt.figure(figsize = (14,6))\n",
    "sns.set_theme(style='white')\n",
    "sns.barplot(data=df4, x='month', y='ride_id', hue='member_casual', palette='tab10', \n",
    "            order=['January', 'February', 'March', 'April', 'May', 'June', 'July', 'August', 'September', \n",
    "                   'October', 'November', 'December']).set_title('The Most Popular Month of the Year for Bike Rentals'),\n",
    "\n",
    "plt.xlabel('Months')\n",
    "plt.ylabel('Total Number of Rides')\n",
    "plt.show()"
   ]
  },
  {
   "cell_type": "markdown",
   "metadata": {},
   "source": [
    "<span style=\"font-size:1.1em;\">Visualizing the number of rides per month can help us learn if seasonality plays a role in bike rental. The chart above shows us that the number of rentals increases during the summer months and gradually drops over the fall and winter for both user types. The main difference is that members are still more consistent with their rental habits throughout the year when compared to casual riders, whose numbers drop significantly during the winter months."
   ]
  },
  {
   "cell_type": "markdown",
   "metadata": {},
   "source": [
    "### **Visualizing Average Ride Length by Day of the Week**"
   ]
  },
  {
   "cell_type": "code",
   "execution_count": 39,
   "metadata": {
    "execution": {
     "iopub.execute_input": "2022-02-08T21:20:53.88533Z",
     "iopub.status.busy": "2022-02-08T21:20:53.885013Z",
     "iopub.status.idle": "2022-02-08T21:20:55.539463Z",
     "shell.execute_reply": "2022-02-08T21:20:55.538002Z",
     "shell.execute_reply.started": "2022-02-08T21:20:53.885298Z"
    }
   },
   "outputs": [
    {
     "data": {
      "image/png": "[encoded data removed]",
      "text/plain": [
       "<Figure size 1008x432 with 1 Axes>"
      ]
     },
     "metadata": {},
     "output_type": "display_data"
    }
   ],
   "source": [
    "cats = [ 'Monday', 'Tuesday', 'Wednesday', 'Thursday', 'Friday', 'Saturday', 'Sunday']\n",
    "cat_type = CategoricalDtype(categories=cats, ordered=True)\n",
    "tripdata['dayofweek'] = tripdata['dayofweek'].astype(cat_type)\n",
    "df5 = tripdata.copy()\n",
    "\n",
    "df5 = tripdata[['dayofweek', 'member_casual', 'ride_length']]\n",
    "df5 = df5.groupby(['dayofweek', 'member_casual'], as_index=False)[['ride_length']].mean()\n",
    "\n",
    "sns.set_theme(style='whitegrid')\n",
    "plt.figure(figsize = (14,6))\n",
    "sns.lineplot(data=df5, x='dayofweek', y='ride_length', hue='member_casual', style='member_casual', palette='tab10', \n",
    "             markers=True).set_title('Average Ride Length by Day of the Week')\n",
    "\n",
    "plt.xlabel('Days of the Week')\n",
    "plt.ylabel('Ride Length (Minutes)')\n",
    "plt.show()"
   ]
  },
  {
   "cell_type": "markdown",
   "metadata": {},
   "source": [
    "<span style=\"font-size:1.1em;\">On this line plot, it becomes clear that ride length increases on the weekends for the two groups. The difference between casual riders and members in this scenario lies in the duration of rides. Casual riders tend to take longer rides, averaging **44 minutes**. In contrast, members present much shorter rides that last **16 minutes** on average.\n",
    "    \n",
    "<span style=\"font-size:1.1em;\">Considering the lack of personal user data for privacy reasons, it is difficult for us to determine exactly what causes casual riders and members to have such different riding lengths. It is likely that members live close to work/school and choose to commute using Cyclistic's bike-sharing system. As for casual riders, if we take into consideration that they purchase either single-ride or full-day passes, this makes them less likely to use the service on a daily basis as members do. Casual riders could have longer ride lengths because they are using it for leisure or tourism. Regardless, we are unable to answer this question with certainty ride length increases on the weekends for the two groups given the gaps in our data."
   ]
  },
  {
   "cell_type": "markdown",
   "metadata": {},
   "source": [
    "### **Visualizing Average Ride Length by Month**"
   ]
  },
  {
   "cell_type": "code",
   "execution_count": 40,
   "metadata": {
    "execution": {
     "iopub.execute_input": "2022-02-08T21:20:55.541412Z",
     "iopub.status.busy": "2022-02-08T21:20:55.540959Z",
     "iopub.status.idle": "2022-02-08T21:20:57.145649Z",
     "shell.execute_reply": "2022-02-08T21:20:57.144865Z",
     "shell.execute_reply.started": "2022-02-08T21:20:55.541375Z"
    }
   },
   "outputs": [
    {
     "data": {
      "image/png": "[encoded data removed]",
      "text/plain": [
       "<Figure size 1008x432 with 1 Axes>"
      ]
     },
     "metadata": {},
     "output_type": "display_data"
    }
   ],
   "source": [
    "cats = [ 'January', 'February', 'March', 'April', 'May', 'June', 'July', 'August', 'September', 'October', 'November', 'December']\n",
    "cat_type = CategoricalDtype(categories=cats, ordered=True)\n",
    "tripdata['month'] = tripdata['month'].astype(cat_type)\n",
    "df6 = tripdata.copy()\n",
    "\n",
    "df6 = tripdata[['month', 'member_casual', 'ride_length']]\n",
    "df6 = df6.groupby(['month', 'member_casual'], as_index=False)[['ride_length']].mean()\n",
    "\n",
    "sns.set_theme(style='whitegrid')\n",
    "plt.figure(figsize = (14,6))\n",
    "sns.lineplot(data=df6, x='month', y='ride_length', hue='member_casual', palette='tab10', \n",
    "             style='member_casual', markers=True).set_title('Average Ride Length by Month')\n",
    "\n",
    "plt.xlabel('Months')\n",
    "plt.ylabel('Ride Length (Minutes)')\n",
    "plt.show()"
   ]
  },
  {
   "cell_type": "markdown",
   "metadata": {},
   "source": [
    "<span style=\"font-size:1.1em;\">When we visualize ride length by month, we can learn more about the user's riding habits throughout the year. Note that the ride length changes considerably for casual riders as the months go by. For this type of customer, the ride length peaks during the summer – reaching an average of **60 minutes** in July – before dropping in August. As for the members, the ride length does not change drastically over the months, peaking in May – averaging **18 minutes** – and then gradually dropping for the remainder of the year. \n",
    "    \n",
    "<span style=\"font-size:1.1em;\">Considering the short trips, this could indicate that members use Cyclistic's bikes to commute and, perhaps, run errands. The drop in ride length over the winter months could indicate that members choose other means of transportation to commute during that time of the year. In contrast, casual riders could be using it for leisure or tourism – as mentioned earlier – especially during the spring and summer."
   ]
  },
  {
   "cell_type": "markdown",
   "metadata": {},
   "source": [
    "### **Visualizing the Total Number of Rides per Hour**"
   ]
  },
  {
   "cell_type": "code",
   "execution_count": 41,
   "metadata": {
    "execution": {
     "iopub.execute_input": "2022-02-08T21:20:57.146953Z",
     "iopub.status.busy": "2022-02-08T21:20:57.146733Z",
     "iopub.status.idle": "2022-02-08T21:20:58.417486Z",
     "shell.execute_reply": "2022-02-08T21:20:58.416613Z",
     "shell.execute_reply.started": "2022-02-08T21:20:57.146926Z"
    }
   },
   "outputs": [
    {
     "data": {
      "image/png": "[encoded data removed]",
      "text/plain": [
       "<Figure size 1008x432 with 1 Axes>"
      ]
     },
     "metadata": {},
     "output_type": "display_data"
    }
   ],
   "source": [
    "df7 = tripdata[['hour', 'member_casual', 'ride_id']]\n",
    "df7 = df7.groupby(['hour', 'member_casual'], as_index=False)[['ride_id']].count()\n",
    "\n",
    "sns.set_theme(style='whitegrid')\n",
    "plt.figure(figsize = (14,6))\n",
    "sns.lineplot(data=df7, x='hour', y='ride_id', hue='member_casual', palette='tab10',\n",
    "             style='member_casual', markers=True).set_title('Total Number of Rides per Hour')\n",
    "plt.xlabel('Hours')\n",
    "plt.ylabel('Number of Rides')\n",
    "plt.show()"
   ]
  },
  {
   "cell_type": "markdown",
   "metadata": {},
   "source": [
    "<span style=\"font-size:1.1em;\">By taking a closer look into the total number of rides per hour, we can find more patterns in the customers' bike rental habits. The number of bike rentals by casual riders begins to increase between **8 am** and **10 am**, peaking at **5 pm**. As for members, the numbers start to go up earlier – between **6 am** and **7 am** – also peaking at **5 pm**. Note that the number of rides by members is far greater than casual riders. This could be related to the fact that members represent the majority of users and likely use Cyclistic's services for their daily commute."
   ]
  },
  {
   "cell_type": "markdown",
   "metadata": {},
   "source": [
    "## **6. ACT**\n",
    "\n",
    "Now, it is time to summarize our key findings and present our recommendations for Cyclistic's marketing team.\n",
    "\n",
    "### **Key Findings** \n",
    "\n",
    "* <span style=\"font-size:1.1em;\">Annual members are the majority of users, making up for 59% of Cyclistic's customers.\n",
    "* <span style=\"font-size:1.1em;\">Casual riders have an average ride length of 44 minutes while members take shorter trips, averaging 16 minutes.\n",
    "* <span style=\"font-size:1.1em;\">Docked bike is the most popular rideable type for both groups, followed by classic and electric bikes, respectively.\n",
    "* <span style=\"font-size:1.1em;\">Saturday is the most popular day of the week for bike rentals.\n",
    "* <span style=\"font-size:1.1em;\">Casual riders, as well as members, take longer rides on the weekends.\n",
    "* <span style=\"font-size:1.1em;\">Members consistently rent bikes on a daily basis while casual riders present lower weekday numbers compared to the weekend.\n",
    "* <span style=\"font-size:1.1em;\">August is the most popular month of the year for bike rental. There’s a clear rise in numbers during the summer for both casual riders and members.\n",
    "* <span style=\"font-size:1.1em;\">Both user types take longer rides during the spring and summer months.  \n",
    "* <span style=\"font-size:1.1em;\">The number of bike rentals by casual riders begins to grow between 8 am and 10 am, peaking at 5 pm. As for members, the numbers start to go up earlier – between 6 am and 7 am – also peaking at 5 pm.         \n",
    "* <span style=\"font-size:1.1em;\">Average ride length combined with the average time of day rentals indicates that members use Cyclistic's bikes to go to work/school. The noticeable drop in ride length over the winter could be related to a change in means of transportation to commute during that time of year.\n",
    "* <span style=\"font-size:1.1em;\">Casual riders' bike rental numbers on the weekends paired with average ride length during the summer suggest that they are using the single-ride and full-day passes for leisure or tourism."
   ]
  },
  {
   "cell_type": "markdown",
   "metadata": {},
   "source": [
    "#### **After conducting analysis with the support of visualizations, it became clear how casual riders and members use Cyclistic bikes differently:** \n",
    "* <span style=\"font-size:1.1em;\">**Casual riders** tend to rent more bikes on the weekends – especially over the summer. Considering the long average ride length, this combination of factors suggests that this group of customers use the bikes for leisure.\n",
    "* <span style=\"font-size:1.1em;\">**Members** tend to use Cyclistic's bike-sharing system on a daily basis for shorter rides, indicating its use for commuting to work/school and running errands on the weekends. \n",
    "    "
   ]
  },
  {
   "cell_type": "markdown",
   "metadata": {},
   "source": [
    "### **Recommendations**\n",
    "\n",
    "<span style=\"font-size:1.1em;\">The following recommendations were carefully created to help guide Cyclistic's marketing strategy:\n",
    "\n",
    "* <span style=\"font-size:1.1em;\">Increase marketing campaign targeted at casual riders through email, text messages, and app notifications during the summer months, when bike rental is more frequent. The ads could offer special discounts for the annual membership in order to encourage casual riders to make the switch.\n",
    "    \n",
    "* <span style=\"font-size:1.1em;\">Create a rewards points system for members, where each bike rental adds up a certain number of points to the user’s account. The points could get higher with rental frequency and trip duration, and at the end of each year, the user could exchange the points for a discount on membership renewal.   \n",
    "    \n",
    "* <span style=\"font-size:1.1em;\">Cyclistic could study partnering up with local companies and offer special deals on places such as fitness centers, movie theaters, beauty salons, and restaurants. Focusing on entertainment and wellness segments could motivate casual riders into signing up for the annual membership. \n",
    "\n",
    "* <span style=\"font-size:1.1em;\">Given that casual riders do not rent bikes as much as members during the weekdays, Cyclistic’s marketing team should also consider the possibility of creating two new types of membership: \n",
    "\n",
    "    - <span style=\"font-size:1.1em;\">An annual membership that only includes the weekends. This way, the customers that only rent bikes twice a week could pay accordingly and still add to the company’s growing number of members. \n",
    "    - <span style=\"font-size:1.1em;\">A seasonal membership tailored for the group of people that likes to ride bikes during the summer, but do not have any interest in renting it for the remainder of the year. This type of membership could be billed annually, and offer a special discount in comparison to the single-ride and full-day passes."
   ]
  },
  {
   "cell_type": "markdown",
   "metadata": {},
   "source": [
    "### **Additional Considerations**\n",
    "\n",
    "<span style=\"font-size:1.1em;\">Given the fact that we encountered certain gaps in our data, such as the lack of payment, age, gender, and geographical information, we are unable to make further recommendations. Demographic data plays a significant role in creating a successful marketing campaign because it allows businesses to understand their audience better. Once the company has this information, they can segment their customers into separate groups based on their habits, interests, and other important characteristics. This way, the marketing team is able to create customized ad campaigns capable of achieving Cyclistic’s marketing and financial goals.\n",
    " \n"
   ]
  }
 ],
 "metadata": {
  "kernelspec": {
   "display_name": "Python 3",
   "language": "python",
   "name": "python3"
  },
  "language_info": {
   "codemirror_mode": {
    "name": "ipython",
    "version": 3
   },
   "file_extension": ".py",
   "mimetype": "text/x-python",
   "name": "python",
   "nbconvert_exporter": "python",
   "pygments_lexer": "ipython3",
   "version": "3.8.8"
  }
 },
 "nbformat": 4,
 "nbformat_minor": 4
}
